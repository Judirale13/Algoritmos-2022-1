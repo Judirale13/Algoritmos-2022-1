{
  "nbformat": 4,
  "nbformat_minor": 0,
  "metadata": {
    "colab": {
      "name": "jramirezle_lab.1.ipynb",
      "provenance": [],
      "authorship_tag": "ABX9TyPHAqXMkc9ktQZovSrt4Lu5",
      "include_colab_link": true
    },
    "kernelspec": {
      "name": "python3",
      "display_name": "Python 3"
    },
    "language_info": {
      "name": "python"
    }
  },
  "cells": [
    {
      "cell_type": "markdown",
      "metadata": {
        "id": "view-in-github",
        "colab_type": "text"
      },
      "source": [
        "<a href=\"https://colab.research.google.com/github/Judirale13/Algoritmos-2022-1/blob/main/jramirezle_lab_1.ipynb\" target=\"_parent\"><img src=\"https://colab.research.google.com/assets/colab-badge.svg\" alt=\"Open In Colab\"/></a>"
      ]
    },
    {
      "cell_type": "code",
      "execution_count": null,
      "metadata": {
        "id": "n5Ch48mFSF6n"
      },
      "outputs": [],
      "source": [
        ""
      ]
    },
    {
      "cell_type": "markdown",
      "source": [
        "Parte 1"
      ],
      "metadata": {
        "id": "FH5ZZYhfSY8Y"
      }
    },
    {
      "cell_type": "code",
      "execution_count": null,
      "metadata": {
        "colab": {
          "base_uri": "https://localhost:8080/"
        },
        "id": "HMMZSSAfEd_F",
        "outputId": "47bab1d7-8e98-4947-e414-33b16155e13d"
      },
      "outputs": [
        {
          "output_type": "stream",
          "name": "stdout",
          "text": [
            "Hola Mundo\n"
          ]
        }
      ],
      "source": [
        "string1 = 'Hola' \n",
        "string2 = 'Mundo'\n",
        "#Se declaran nuestras cadenas de texto las cuales identificamos por estas dentro de comillas \"llamadas string1 y string2\"\n",
        "print(string1 + ' ' + string2)\n",
        "#Realizamos el print incluyendo el metodo de suma , en este caso se suman las cadenas de texto declaradas en la parte superior "
      ]
    },
    {
      "cell_type": "code",
      "source": [
        "int = 10\n",
        "#En caso de declarar enteros debemos aclarar el tipo de dato haciendo uso del 'int'\n",
        "print(int)\n",
        "print(type(int))\n",
        "#corroboramos el tipo de variable instanceada en este caso entero"
      ],
      "metadata": {
        "colab": {
          "base_uri": "https://localhost:8080/"
        },
        "id": "H3pkrmgfGZz5",
        "outputId": "298e04e6-2ee7-4a25-f553-1d4673c25c27"
      },
      "execution_count": null,
      "outputs": [
        {
          "output_type": "stream",
          "name": "stdout",
          "text": [
            "10\n",
            "<class 'int'>\n"
          ]
        }
      ]
    },
    {
      "cell_type": "code",
      "source": [
        "astring = \"1\"\n",
        "#declaramos un string y corroboramos el tipo de dato haciendo uso del 'type'\n",
        "\n",
        "my_int = int(astring)\n",
        "#hacemos uso del 'int' para indicar que queremos que cambie del tipo actual de dato a ser un entero y lo corroboramos con el 'type' que si sea un dato tipo entero\n",
        "print(type(my_int))"
      ],
      "metadata": {
        "colab": {
          "base_uri": "https://localhost:8080/"
        },
        "id": "P02ltuuPGy0j",
        "outputId": "5deafb9d-0708-482c-a4d0-9853eb25f388"
      },
      "execution_count": null,
      "outputs": [
        {
          "output_type": "stream",
          "name": "stdout",
          "text": [
            "<class 'int'>\n"
          ]
        }
      ]
    },
    {
      "cell_type": "code",
      "source": [
        "string = \"100\"\n",
        "\n",
        "float_ = float(string)\n",
        "\n",
        "print(type(float_))\n",
        "#Declaramos una cadena y luego la convertimos a tipo flotante(float) y verificamos en el print que la conversion se realizo de manera correcta"
      ],
      "metadata": {
        "colab": {
          "base_uri": "https://localhost:8080/"
        },
        "id": "m-HEKnJpIY2J",
        "outputId": "9557de13-c591-4348-85a6-1c4489e5dbf5"
      },
      "execution_count": null,
      "outputs": [
        {
          "output_type": "stream",
          "name": "stdout",
          "text": [
            "<class 'float'>\n"
          ]
        }
      ]
    },
    {
      "cell_type": "code",
      "source": [
        "bool_ = False\n",
        "print(bool_)\n",
        "print(type(bool_))\n",
        "#declaramos una variable tipo booleano ,la imprimimos y verificamos que efectivamente sea un booleano (true o false)"
      ],
      "metadata": {
        "colab": {
          "base_uri": "https://localhost:8080/"
        },
        "id": "Zeug5E2yJgeT",
        "outputId": "0b86e1c6-862a-453a-fdce-b68d08bbc445"
      },
      "execution_count": null,
      "outputs": [
        {
          "output_type": "stream",
          "name": "stdout",
          "text": [
            "False\n",
            "<class 'bool'>\n"
          ]
        }
      ]
    },
    {
      "cell_type": "code",
      "source": [
        "print(\"Addition \", 1+1)\n",
        "print(\"Subtraction \", 5-2)\n",
        "print(\"Multiplication \", 2*3)\n",
        "print(\"Division \", 10/2)\n",
        "print('exponent', 2**3)\n",
        "#vemos las operaciones basicas que podemos realizar con sus respectivos operadores "
      ],
      "metadata": {
        "colab": {
          "base_uri": "https://localhost:8080/"
        },
        "id": "ew4GeisMJ_kY",
        "outputId": "42108ab9-de07-4f11-c55c-a6ab0e83215c"
      },
      "execution_count": null,
      "outputs": [
        {
          "output_type": "stream",
          "name": "stdout",
          "text": [
            "Addition  2\n",
            "Subtraction  3\n",
            "Multiplication  6\n",
            "Division  5.0\n",
            "exponent 8\n"
          ]
        }
      ]
    },
    {
      "cell_type": "code",
      "source": [
        "print(1/3)\n",
        "print(1.0/3)\n",
        "#Notamos que no existe diferencia entre operar int/int con float/int ni en su formato ni es su resultado"
      ],
      "metadata": {
        "colab": {
          "base_uri": "https://localhost:8080/"
        },
        "id": "z5kioJ0MKXse",
        "outputId": "478fb4ab-9c0d-4567-8619-4cba11274467"
      },
      "execution_count": null,
      "outputs": [
        {
          "output_type": "stream",
          "name": "stdout",
          "text": [
            "0.3333333333333333\n",
            "0.3333333333333333\n"
          ]
        }
      ]
    },
    {
      "cell_type": "code",
      "source": [
        "list = ['Hola', 'dos', 155,3,1.2]\n",
        "#notamos que la manera de declarar una lista en en corchetes '[]' y que pueden almacenar cualquier tipo de dato separado por comas. \n",
        "print(list)\n"
      ],
      "metadata": {
        "colab": {
          "base_uri": "https://localhost:8080/"
        },
        "id": "gY9kNvaeKmmY",
        "outputId": "2187dd5f-39de-4574-beeb-a938f5ee5986"
      },
      "execution_count": null,
      "outputs": [
        {
          "output_type": "stream",
          "name": "stdout",
          "text": [
            "['Hola', 'dos', 155, 3, 1.2]\n"
          ]
        }
      ]
    },
    {
      "cell_type": "code",
      "source": [
        "my_list = ['Hola', 'dos', 155,3,1.2]\n",
        "print(len(my_list))\n",
        "#Utilizamos el metodo 'len' con el fin de conocer el tamaño de nuestra lista\n",
        "print(my_list[0])\n",
        "#utilizamos el nombre de nuestra lista seguida por [] para conocer que dato se encuentra en esta ubicación \n",
        "print(my_list[len(my_list) -1])\n",
        "#este metodo es utilizado para conocer el ultimo dato de una lista , debido a que siempre el conteo de posiciones empieza desde 0\n"
      ],
      "metadata": {
        "colab": {
          "base_uri": "https://localhost:8080/"
        },
        "id": "y3VE_RvGLdsU",
        "outputId": "6fc4ccff-73e2-4a1b-9f58-110d04d8b3af"
      },
      "execution_count": null,
      "outputs": [
        {
          "output_type": "stream",
          "name": "stdout",
          "text": [
            "5\n",
            "Hola\n",
            "1.2\n"
          ]
        }
      ]
    },
    {
      "cell_type": "code",
      "source": [
        "my_list = ['Hola', 'dos', 155,3,1.2]\n",
        "my_list[2] = 'f'\n",
        "#por medio de este metodo lo que realizamos es reemplazar el dato ubicado en la POSICION especificada ,eliminando el antiguo dato(en este caso elimino 155 y añadio 'f').\n",
        "print(my_list)"
      ],
      "metadata": {
        "colab": {
          "base_uri": "https://localhost:8080/"
        },
        "id": "-xHcAd7OL3cR",
        "outputId": "04840d7b-0a88-41ef-d246-90dc23449865"
      },
      "execution_count": null,
      "outputs": [
        {
          "output_type": "stream",
          "name": "stdout",
          "text": [
            "['Hola', 'dos', 'f', 3, 1.2]\n"
          ]
        }
      ]
    },
    {
      "cell_type": "code",
      "source": [
        "my_list = ['Hola', 'dos', 155,3,1.2]\n",
        "print(my_list[1:3])\n",
        "#por medio del fomato [#:#] se especifica desde la posicion inicial que se desea imprimir hasta la posicion que se desea imprimir\n",
        "print(my_list[1:])\n",
        "#si esta vacio el segundo parametro [#:] se asume que se imprimira desde la posicion indicada hasta el final de la lista\n",
        "print(my_list[:3])\n",
        "#si esta vacio en primer parametro [:#] se asume que se imprime desde el primer dato hasta el dato especificado en la lista"
      ],
      "metadata": {
        "colab": {
          "base_uri": "https://localhost:8080/"
        },
        "id": "YaCJYZmOMlO3",
        "outputId": "45bee714-343f-436a-ef3f-0cbfe3e0b6e7"
      },
      "execution_count": null,
      "outputs": [
        {
          "output_type": "stream",
          "name": "stdout",
          "text": [
            "['dos', 155]\n",
            "['dos', 155, 3, 1.2]\n",
            "['Hola', 'dos', 155]\n"
          ]
        }
      ]
    },
    {
      "cell_type": "code",
      "source": [
        "my_list = ['Hola', 'Mundo']\n",
        "my_list.append('Cruel')\n",
        "#Con el metodo '.append' llamamos el metodo que agrega un elemento a la lista e ingresa como ultimo dato de esta.\n",
        "print(my_list)\n",
        "my_list.remove('Hola')\n",
        "#con el metodo '.remove' eliminamos el valor especificado dentro del metodo\n",
        "print(my_list)"
      ],
      "metadata": {
        "colab": {
          "base_uri": "https://localhost:8080/"
        },
        "id": "I4t0yZoUNZZ_",
        "outputId": "0f9ae3a1-650b-4af6-d9e5-8aa1e624e7ed"
      },
      "execution_count": null,
      "outputs": [
        {
          "output_type": "stream",
          "name": "stdout",
          "text": [
            "['Hola', 'Mundo', 'Cruel']\n",
            "['Mundo', 'Cruel']\n"
          ]
        }
      ]
    },
    {
      "cell_type": "code",
      "source": [
        "tuple_ = ('Hola','cruel','mundo')\n",
        "print(tuple_[1:])\n",
        "#Al igual que las listas las tuplas reconocen en que posicion se encuentran los elementos de esta por lo cual en este caso imprime los valores de la posicion 1 al final \"recordar que se empieza desde 0 el conteo de las posiciones\""
      ],
      "metadata": {
        "colab": {
          "base_uri": "https://localhost:8080/"
        },
        "id": "x73Jtv-aNtf3",
        "outputId": "a256ec11-ca6e-458e-f6d9-e98246021a9f"
      },
      "execution_count": null,
      "outputs": [
        {
          "output_type": "stream",
          "name": "stdout",
          "text": [
            "('cruel', 'mundo')\n"
          ]
        }
      ]
    },
    {
      "cell_type": "code",
      "source": [
        "_list = ['a','b','c','b','c','a','d','a']\n",
        "_set = set(_list)\n",
        "#el metodo 'set' se encarga de eliminar los datos que esten repetidos en el arreglo y los guarda sin duplicados de manera desorganizada.\n",
        "print(_set)"
      ],
      "metadata": {
        "colab": {
          "base_uri": "https://localhost:8080/"
        },
        "id": "NypKwR1qO6a9",
        "outputId": "e8d54bfa-ad91-428a-f6a5-e910cdb2a821"
      },
      "execution_count": null,
      "outputs": [
        {
          "output_type": "stream",
          "name": "stdout",
          "text": [
            "{'b', 'd', 'a', 'c'}\n"
          ]
        }
      ]
    },
    {
      "cell_type": "code",
      "source": [
        "my_dic = {'house':'casa', 'dog':'perro', 'cat':'gato'}\n",
        "#los diccionarios funcionan con una llave la cual almacena de uno a mas datos y la manera correcta de llamar esta informacion es (nombre_diccionario[nombre_llave])\n",
        "print(my_dic['house'])"
      ],
      "metadata": {
        "colab": {
          "base_uri": "https://localhost:8080/"
        },
        "id": "bPNB3C-wPlJE",
        "outputId": "09b358d4-1c98-442c-b367-e148df5ca5df"
      },
      "execution_count": null,
      "outputs": [
        {
          "output_type": "stream",
          "name": "stdout",
          "text": [
            "casa\n"
          ]
        }
      ]
    },
    {
      "cell_type": "code",
      "source": [
        "_str = 'Hola mundo cruel'\n",
        "print(_str[5:])\n",
        "#en el caso de las cadenas no se distinguen en elementos si no en posiciones de cada dato RECORDAR QUE LAS POSICIONES SE CUENTAN DESDE 0."
      ],
      "metadata": {
        "colab": {
          "base_uri": "https://localhost:8080/"
        },
        "id": "kDMOKo7iRg10",
        "outputId": "c66919bc-e311-4a38-9c48-a87cc27d8b24"
      },
      "execution_count": null,
      "outputs": [
        {
          "output_type": "stream",
          "name": "stdout",
          "text": [
            "mundo cruel\n"
          ]
        }
      ]
    },
    {
      "cell_type": "code",
      "source": [
        "print('Hola mundo cruel'.count('o'))\n",
        "print('Hola mundo cruel'.find('d'))\n",
        "print('Hola mundo cruel'.replace('u','o'))\n",
        "#estos metodos de las cadenas nos permite contar, encontrar, reemplazar gracias a que las cadenas estan estructuradas caracter a caracter"
      ],
      "metadata": {
        "colab": {
          "base_uri": "https://localhost:8080/"
        },
        "id": "sw6xtuhSTHjZ",
        "outputId": "cadc5bb4-1607-4f15-9f97-8926cd8638e1"
      },
      "execution_count": null,
      "outputs": [
        {
          "output_type": "stream",
          "name": "stdout",
          "text": [
            "2\n",
            "8\n",
            "Hola mondo croel\n"
          ]
        }
      ]
    },
    {
      "cell_type": "markdown",
      "source": [
        "Parte 2"
      ],
      "metadata": {
        "id": "cmaQKUi-ScYc"
      }
    },
    {
      "cell_type": "code",
      "source": [
        ""
      ],
      "metadata": {
        "id": "GjGng1YyShI2"
      },
      "execution_count": null,
      "outputs": []
    },
    {
      "cell_type": "code",
      "execution_count": null,
      "metadata": {
        "colab": {
          "base_uri": "https://localhost:8080/"
        },
        "id": "NJrQOWgK5WPd",
        "outputId": "c9d4eb05-65d6-4b95-c9cf-d6f051e0779c"
      },
      "outputs": [
        {
          "output_type": "stream",
          "name": "stdout",
          "text": [
            "False\n",
            "True\n",
            "False\n",
            "False\n",
            "True\n"
          ]
        }
      ],
      "source": [
        "#En las operaciones logicas encontramos una serie de comparaciones como se nombraran mas adelante y la salida sera un booleano aclarando si la comparacion realizada es verdadera o falsa\n",
        "print(154 == 44) #igualdad\n",
        "print(55 == 55)\n",
        "print(1 != 1) #diferente a\n",
        "print(52 >= 54) #mayor o igual\n",
        "print(1 <= 7) #menos igual"
      ]
    },
    {
      "cell_type": "code",
      "source": [
        "#en este caso juntamos dos operaciones logicas acompañadas de operadores que unen la operacion\n",
        "print(1 > 2 and 2 > 3 ) #and es un perados que intersecta // en este caso las dos operaciones deberan ser verdaderas para un true o falso en el resto de los casos\n",
        "print(1 > 2 and 2 < 3) \n",
        "print(2 > 1 or 3 < 2) #or realiza la operacion de union // el resultado de esta operacio  sera falsa si las dos operaciones logicas son falsas en el resto de los casos son verdaderas\n",
        "print(1 < 2 and 2 < 3)"
      ],
      "metadata": {
        "colab": {
          "base_uri": "https://localhost:8080/"
        },
        "id": "Ci_iJhRK6mzw",
        "outputId": "2dae7e73-a591-403a-9e82-bb34e451e921"
      },
      "execution_count": null,
      "outputs": [
        {
          "output_type": "stream",
          "name": "stdout",
          "text": [
            "False\n",
            "False\n",
            "True\n",
            "True\n"
          ]
        }
      ]
    },
    {
      "cell_type": "code",
      "source": [
        "p = 1 > 0 #declaramos las variables en este caso operaciones logicas que seran TRUE o FALSE // en este caso es verdadero\n",
        "q = 2 > 3 #declaramos las variables en este caso operaciones logicas que seran TRUE o FALSE // en este caso es falso\n",
        "if p and q: # el if es un condicional que permite ejecutar alguna instruccion si la o las condiciones propuestas se cumplen\n",
        "    print('p and q is true')\n",
        "elif p and not q: #elif es una expresion luego de que el if anterios no se haya ejecutado entra a validar esta nueva condicion\n",
        "    print('q is false')\n",
        "elif q and not p:\n",
        "    print('p is false')\n",
        "else: #else se ejecuta si las condicionales previamente no se cumplieron \n",
        "    print('None of p and q is true')\n",
        "# en este ejercicio la condicion que si cumplio fue la del \"elif p an not q\" por lo cual alli imprime el mensaje y acaba el programa"
      ],
      "metadata": {
        "colab": {
          "base_uri": "https://localhost:8080/"
        },
        "id": "7CGRmP2G8MFx",
        "outputId": "6f6b9abd-4aa3-4984-8892-72c866e54cf6"
      },
      "execution_count": null,
      "outputs": [
        {
          "output_type": "stream",
          "name": "stdout",
          "text": [
            "q is false\n"
          ]
        }
      ]
    },
    {
      "cell_type": "code",
      "source": [
        "i = 0\n",
        "while i < 10:\n",
        "    print(i)\n",
        "    i += 2 \n",
        "#While es un ciclo que se ejecuta n veces hasta cumplir la condicion que se le establezca"
      ],
      "metadata": {
        "colab": {
          "base_uri": "https://localhost:8080/"
        },
        "id": "PfaGfAhU9vgB",
        "outputId": "561689dc-470c-4bcf-e9d9-1310ed34ed97"
      },
      "execution_count": null,
      "outputs": [
        {
          "output_type": "stream",
          "name": "stdout",
          "text": [
            "0\n",
            "2\n",
            "4\n",
            "6\n",
            "8\n"
          ]
        }
      ]
    },
    {
      "cell_type": "code",
      "source": [
        "for i in ['a','b','c','d']:\n",
        "    print(i)\n",
        "#for es un ciclo el cual recorre un arreglo y realiza el procedimiento propuesto dentro del for"
      ],
      "metadata": {
        "colab": {
          "base_uri": "https://localhost:8080/"
        },
        "id": "QzheQDs4-AMa",
        "outputId": "f7f2b047-c312-44ea-94df-50f6361d6637"
      },
      "execution_count": null,
      "outputs": [
        {
          "output_type": "stream",
          "name": "stdout",
          "text": [
            "a\n",
            "b\n",
            "c\n",
            "d\n"
          ]
        }
      ]
    },
    {
      "cell_type": "code",
      "source": [
        "cosas = ['casa','arbol','piedra','andres','felipe'] #creamos una lista \n",
        "cosas2 = ['casa','felipe']#creammos la segunda lista\n",
        "new_list = [] #creamos una lista vacia\n",
        "for i in cosas: #declaramos un for para recorrer la lista cosas\n",
        "    if i not in cosas2: #verificamos que los elementos de la lista cosas no esten en lista cosas y si esta condicion se cumple que realice el procedimiento planteado\n",
        "        new_list.append(i) #agrega los datos de la lista cosas en la lista new_list \n",
        "print(new_list) #imprimimos new_list para verificar que realice de manera correcta las iteraciones\n"
      ],
      "metadata": {
        "colab": {
          "base_uri": "https://localhost:8080/"
        },
        "id": "nImnmb9K--y6",
        "outputId": "8bd8cbb7-f7db-4131-f4f1-d28c46f1b38a"
      },
      "execution_count": null,
      "outputs": [
        {
          "output_type": "stream",
          "name": "stdout",
          "text": [
            "['arbol', 'piedra', 'andres']\n"
          ]
        }
      ]
    },
    {
      "cell_type": "code",
      "source": [
        "cosas = ['casa','arbol','piedra','andres','felipe'] # creamos una lista con elementos\n",
        "for i in cosas:# creamos un for para recorrer la lista\n",
        "    print(i) #printeamos nuestro elemento de la lista en el que se encuentre el for\n",
        "    if i == 'piedra': #le pedimos que nos verifique si este es el elemento en el cual se encuentra de la lista\n",
        "        break #el break nos representa que alli termine de iterar el for y salga de este for // en este caso acaba el programa"
      ],
      "metadata": {
        "id": "rDkZKobKAMiH"
      },
      "execution_count": null,
      "outputs": []
    },
    {
      "cell_type": "code",
      "source": [
        "cosas = ['casa','arbol','piedra','andres','felipe'] # creamos una lista con elementos\n",
        "for i in cosas: # creamos un for para recorrer la lista\n",
        "    if i == 'piedra': #verificamos que el elemento del ciclo no sea 'piedra' \n",
        "      \n",
        "      continue #permite que el for siga con sus iteraciones \n",
        "    print(i)\n",
        "#en este caso debe imprimir todos los elementos de la lista con excepcion de 'piedra'"
      ],
      "metadata": {
        "colab": {
          "base_uri": "https://localhost:8080/"
        },
        "id": "s_c1kV29A-G2",
        "outputId": "7ceda3f7-064d-404d-9e94-a55aa96c0eda"
      },
      "execution_count": null,
      "outputs": [
        {
          "output_type": "stream",
          "name": "stdout",
          "text": [
            "casa\n",
            "arbol\n",
            "andres\n",
            "felipe\n"
          ]
        }
      ]
    },
    {
      "cell_type": "code",
      "source": [
        "list = [1,2,3,4,5]#creamos una lista con los numeros de 1-5\n",
        "squares = [x//2 for x in list] #creamos una lista por comprension la cual corresponde a crear un metodo dentro de la misma lista para realizar el codigo mas legible y corto\n",
        "print(squares) #verificamos que realice correctamente el metodo planteado"
      ],
      "metadata": {
        "colab": {
          "base_uri": "https://localhost:8080/"
        },
        "id": "5Yh1BCWQCIXH",
        "outputId": "0e6d20d3-f500-469e-d3d8-8a32bc4ec6aa"
      },
      "execution_count": null,
      "outputs": [
        {
          "output_type": "stream",
          "name": "stdout",
          "text": [
            "[0, 1, 1, 2, 2]\n"
          ]
        }
      ]
    },
    {
      "cell_type": "code",
      "source": [
        "cosas = ['casa','arbol','piedra','andres','felipe'] #creamos una lista \n",
        "cosas2 = ['casa','felipe']#creammos la segunda lista\n",
        "new_list = [x for x in cosas if x in cosas2] #vemos que con ejemplos anteriores ya no hay necesidad de crear una lista vacia ,si no crear el metodo dentro de la misma lista para asi ahorrar lineas de codigo y tener una vision mas clara de nuestro procedimiento\n",
        "print(new_list)#verificamos que estemos realizando nuestro procedimiento de manera correcta"
      ],
      "metadata": {
        "colab": {
          "base_uri": "https://localhost:8080/"
        },
        "id": "TWMHzX02DNc_",
        "outputId": "ba9124e5-9f94-4e4b-9ca7-a015d565cc48"
      },
      "execution_count": null,
      "outputs": [
        {
          "output_type": "stream",
          "name": "stdout",
          "text": [
            "['casa', 'felipe']\n"
          ]
        }
      ]
    },
    {
      "cell_type": "code",
      "source": [
        "print([(x, y) for x in [1,3,5] for y in [2,4,5] if x != y]) #por medio de esta lista de comprension realizamos un tipo de matriz con la condicional de que si x = y no se agregue a la lista\n",
        "print([str(x)+' vs '+str(y) for x in ['casa','arbol','piedra','andres','felipe'] for y in ['casa','felipe'] if x!=y])#unimos los elementos de la lista cada elemento de la primera mlista con el de la segunda lista excepto si ambos elemntos son iguales ."
      ],
      "metadata": {
        "colab": {
          "base_uri": "https://localhost:8080/"
        },
        "id": "gK2oLMF6EaS4",
        "outputId": "b7325b44-7afa-4f2a-d8a5-d314f03a5d08"
      },
      "execution_count": null,
      "outputs": [
        {
          "output_type": "stream",
          "name": "stdout",
          "text": [
            "[(1, 2), (1, 4), (1, 5), (3, 2), (3, 4), (3, 5), (5, 2), (5, 4)]\n",
            "['casa vs felipe', 'arbol vs casa', 'arbol vs felipe', 'piedra vs casa', 'piedra vs felipe', 'andres vs casa', 'andres vs felipe', 'felipe vs casa']\n"
          ]
        }
      ]
    },
    {
      "cell_type": "markdown",
      "source": [
        "Parte 3\n"
      ],
      "metadata": {
        "id": "e3cmse0ySi9f"
      }
    },
    {
      "cell_type": "code",
      "execution_count": null,
      "metadata": {
        "colab": {
          "base_uri": "https://localhost:8080/"
        },
        "id": "TgQp5AQXt6tJ",
        "outputId": "2cb8fadf-cb39-4fdc-e3d2-9f9fc3f610ab"
      },
      "outputs": [
        {
          "output_type": "stream",
          "name": "stdout",
          "text": [
            "10\n",
            "100\n"
          ]
        }
      ],
      "source": [
        "def product(x,z):# creamos una funcion por medio de la sentencia 'def' y el nombre para la funcion  seguido de los ´parametros que incluiremos en esta // el formato seria el siguiente en este caso 'def nombre_funcion(argumento1 , argumento2)\n",
        "    return x*z #declaramos el procedimiento que queremos que la funcion haga\n",
        "print(product(10,1)) # llamamos a la funcion por el nombre que le colocamos y los argumentos con los valores a realizar el procedimiento de la funcion\n",
        "print(product(10,10))"
      ]
    },
    {
      "cell_type": "code",
      "source": [
        "def bienvenida():# por medio de esta funcion vemos que no siempre es necesario instancear parametros dentro de la funcion dependiendo de nuestro objetivo con esta\n",
        "    print('Hola Mundo') #declaramos el procedimiento que queremos que la funcion haga\n",
        "bienvenida()#finalmente llamamos la funcion para ejecutarla"
      ],
      "metadata": {
        "colab": {
          "base_uri": "https://localhost:8080/"
        },
        "id": "MpzQDl1Lv4yO",
        "outputId": "e7dfd6bb-da91-4438-900a-d1e9bf9cd388"
      },
      "execution_count": null,
      "outputs": [
        {
          "output_type": "stream",
          "name": "stdout",
          "text": [
            "Hola Mundo\n"
          ]
        }
      ]
    },
    {
      "cell_type": "code",
      "source": [
        "print(list(range(5)))\n",
        "print(list(range(5,11)))\n",
        "print(list(range(1,10,2)))\n",
        "#el rango imprime desde 0 es decir si 'range(5)' se debe imprimir 0,1,2,3,4\n",
        "#por medio del range retornamos una secuencia de numeros donde 'range(x,y,z)' donde x es donde queremos que inicie ,y donde termine y z el incremento de nuestro rango // si solo existe un argumento se sobre entiende que solo se especifica donde termina este rango"
      ],
      "metadata": {
        "colab": {
          "base_uri": "https://localhost:8080/"
        },
        "id": "J7131vRtwldY",
        "outputId": "800849a4-6e24-4b5a-99ed-5e61896dbd23"
      },
      "execution_count": null,
      "outputs": [
        {
          "output_type": "stream",
          "name": "stdout",
          "text": [
            "[0, 1, 2, 3, 4]\n",
            "[5, 6, 7, 8, 9, 10]\n",
            "[1, 3, 5, 7, 9]\n"
          ]
        }
      ]
    },
    {
      "cell_type": "code",
      "source": [
        "lista = ['casa','arbol','piedra','andres','felipe']#creamos una lista con elementos\n",
        "print('La longitud de lista es {}'.format(len(lista))) #el metodo 'len(nombre_de_la_lista)'  nos retorna cuantos elementos hay en la lista\n",
        "for i in range(len(lista)):#recorremos la lista por medio del for\n",
        "    print(lista[i])#imprimimos cada dato de la lista"
      ],
      "metadata": {
        "id": "IgbW_0szyjjr"
      },
      "execution_count": null,
      "outputs": []
    },
    {
      "cell_type": "code",
      "source": [
        "list = [1,2,3,4,5]#creamos la lista\n",
        "print(list)#imprimimos la lista\n",
        "del list #por medio de el metodo 'del' eliminamos la lista y sus datos\n",
        "list #ahora el programa toma a list como un metodo lista ya sin ningun relacionamiento con alguna variable o lista"
      ],
      "metadata": {
        "colab": {
          "base_uri": "https://localhost:8080/"
        },
        "id": "YQ9tiPLt7OXt",
        "outputId": "cba8e048-cf32-4e7a-c3fd-1893e6d3f121"
      },
      "execution_count": null,
      "outputs": [
        {
          "output_type": "stream",
          "name": "stdout",
          "text": [
            "[1, 2, 3, 4, 5]\n"
          ]
        },
        {
          "output_type": "execute_result",
          "data": {
            "text/plain": [
              "list"
            ]
          },
          "metadata": {},
          "execution_count": 9
        }
      ]
    },
    {
      "cell_type": "code",
      "source": [
        "lista = ['casa','arbol','piedra','andres','felipe']#creamos una lista con elementos\n",
        "list(map(len,lista))#por medio del metodo 'len' se realiza el conteo de cada elemento de la lista y con el 'map' transforma este iterable en una lista"
      ],
      "metadata": {
        "colab": {
          "base_uri": "https://localhost:8080/"
        },
        "id": "tZF72ACq9vy0",
        "outputId": "15d825d6-db0c-4fc1-83fd-a6efa1386921"
      },
      "execution_count": null,
      "outputs": [
        {
          "output_type": "execute_result",
          "data": {
            "text/plain": [
              "[4, 5, 6, 6, 6]"
            ]
          },
          "metadata": {},
          "execution_count": 10
        }
      ]
    },
    {
      "cell_type": "code",
      "source": [
        "list(map(lambda x: x**2, range(10)))# este metodo incluye el metodo range explicado anteriormente y cada dato del 0-9 le saca su cuadrado y lo guarda en una lista //cabe recalcar que lambda permite que se puede hacer esta funcion"
      ],
      "metadata": {
        "colab": {
          "base_uri": "https://localhost:8080/"
        },
        "id": "TBk1bGjpCcS6",
        "outputId": "d8ca07eb-8d57-41b2-89d2-942910962bb1"
      },
      "execution_count": null,
      "outputs": [
        {
          "output_type": "execute_result",
          "data": {
            "text/plain": [
              "[0, 1, 4, 9, 16, 25, 36, 49, 64, 81]"
            ]
          },
          "metadata": {},
          "execution_count": 11
        }
      ]
    },
    {
      "cell_type": "code",
      "source": [
        "sorted([5,2,3,4,1])# es metodo 'sorted' ordena la lista de menor a mayor"
      ],
      "metadata": {
        "colab": {
          "base_uri": "https://localhost:8080/"
        },
        "id": "Cs6ZoNpZDKGO",
        "outputId": "4340c676-3e21-4ba9-a2dc-02bf6ca8aba3"
      },
      "execution_count": null,
      "outputs": [
        {
          "output_type": "execute_result",
          "data": {
            "text/plain": [
              "[1, 2, 3, 4, 5]"
            ]
          },
          "metadata": {},
          "execution_count": 12
        }
      ]
    },
    {
      "cell_type": "code",
      "source": [
        "price_list = [('AAPL',144.09),('GOOG',911.71),('MSFT',69),('FB',150),('WMT',75.32)]\n",
        "sorted(price_list, key = lambda x: x[1])"
      ],
      "metadata": {
        "id": "czInxfhBE0_H"
      },
      "execution_count": null,
      "outputs": []
    },
    {
      "cell_type": "code",
      "source": [
        "class stock:\n",
        "    def __init__(self, ticker, open, close, volume):\n",
        "        self.ticker = ticker\n",
        "        self.open = open\n",
        "        self.close = close\n",
        "        self.volume = volume\n",
        "        self.rate_return = float(close)/open - 1\n",
        " \n",
        "    def update(self, open, close):\n",
        "        self.open = open\n",
        "        self.close = close\n",
        "        self.rate_return = float(self.close)/self.open - 1\n",
        " \n",
        "    def print_return(self):\n",
        "        print(self.rate_return)"
      ],
      "metadata": {
        "id": "KRPbRFQyFJ4q"
      },
      "execution_count": null,
      "outputs": []
    },
    {
      "cell_type": "code",
      "source": [
        "apple = stock('AAPL', 143.69, 144.09, 20109375)\n",
        "google = stock('GOOG', 898.7, 911.7, 1561616)"
      ],
      "metadata": {
        "id": "PmVRo3tPFORo"
      },
      "execution_count": null,
      "outputs": []
    },
    {
      "cell_type": "code",
      "source": [
        "apple.ticker\n",
        "google.print_return()\n",
        "google.update(912.8,913.4)\n",
        "google.print_return()"
      ],
      "metadata": {
        "id": "Q8tuUPSeFP6a"
      },
      "execution_count": null,
      "outputs": []
    },
    {
      "cell_type": "code",
      "source": [
        "apple.ceo = 'Tim Cook'\n",
        "apple.ceo"
      ],
      "metadata": {
        "id": "T6mw6gSqFSLk"
      },
      "execution_count": null,
      "outputs": []
    },
    {
      "cell_type": "code",
      "source": [
        "dir(apple)"
      ],
      "metadata": {
        "id": "83xMpCLiFUd3"
      },
      "execution_count": null,
      "outputs": []
    },
    {
      "cell_type": "code",
      "source": [
        "class child(stock):\n",
        "    def __init__(self,name):\n",
        "        self.name = name"
      ],
      "metadata": {
        "id": "-dnw-gwcFWS2"
      },
      "execution_count": null,
      "outputs": []
    },
    {
      "cell_type": "code",
      "source": [
        "aa = child('aa')\n",
        "print(aa.name)\n",
        "aa.update(100,102)\n",
        "print(aa.open)\n",
        "print(aa.close)\n",
        "print(aa.print_return())"
      ],
      "metadata": {
        "id": "Uhwj0eojFX6H"
      },
      "execution_count": null,
      "outputs": []
    },
    {
      "cell_type": "markdown",
      "source": [
        "Parte 4"
      ],
      "metadata": {
        "id": "qB7Ae5lESp9R"
      }
    },
    {
      "cell_type": "code",
      "source": [
        "import numpy as np \n",
        "# Importamos NumPy, una libreria para computación científica en python, ofrece\n",
        "# herramientas para trabajar con listas multidimensionales (matrices)"
      ],
      "metadata": {
        "id": "BeJUEf2xS2xQ"
      },
      "execution_count": null,
      "outputs": []
    },
    {
      "cell_type": "code",
      "source": [
        "n_list = [14, 83, 'Azul', True]\n",
        "n_list = np.array(n_list)\n",
        "print(n_list, type(n_list))\n",
        "# Hemos creado una lista, luego de usar el comando np.array() el tipo de dato\n",
        "# es ndarray el cual representa una lista multidimensional"
      ],
      "metadata": {
        "colab": {
          "base_uri": "https://localhost:8080/"
        },
        "id": "O778kCKcS6hM",
        "outputId": "f7f2c95f-20bc-42e3-ca6a-3f80236913ce"
      },
      "execution_count": null,
      "outputs": [
        {
          "output_type": "stream",
          "name": "stdout",
          "text": [
            "['14' '83' 'Azul' 'True'] <class 'numpy.ndarray'>\n"
          ]
        }
      ]
    },
    {
      "cell_type": "code",
      "source": [
        "n_list = [14, 83, 'Azul', True]\n",
        "n_list = np.array(n_list)\n",
        "print(n_list, type(n_list))\n",
        "# Hemos creado una lista, luego de usar el comando np.array() el tipo de dato\n",
        "# es ndarray el cual representa una lista multidimensional"
      ],
      "metadata": {
        "colab": {
          "base_uri": "https://localhost:8080/"
        },
        "id": "ReA2Cz_1S-QQ",
        "outputId": "48f90d1b-b8ae-469a-cfc5-38f3cc7473e3"
      },
      "execution_count": null,
      "outputs": [
        {
          "output_type": "stream",
          "name": "stdout",
          "text": [
            "['14' '83' 'Azul' 'True'] <class 'numpy.ndarray'>\n"
          ]
        }
      ]
    },
    {
      "cell_type": "code",
      "source": [
        "# Algunos métodos que tiene NumPy son: mean, std, sum, max, log\n",
        "num_array = [17,25,32,41,59,28,36,43]\n",
        "print(np.mean(num_array))\n",
        "print(np.std(num_array))\n",
        "print(np.sum(num_array))\n",
        "print(np.max(num_array))\n",
        "print(np.log(num_array))"
      ],
      "metadata": {
        "colab": {
          "base_uri": "https://localhost:8080/"
        },
        "id": "oNQudVIcTBiJ",
        "outputId": "dee217ad-8010-45ae-e3c1-a8f0201d2141"
      },
      "execution_count": null,
      "outputs": [
        {
          "output_type": "stream",
          "name": "stdout",
          "text": [
            "35.125\n",
            "12.035754027064527\n",
            "281\n",
            "59\n",
            "[2.83321334 3.21887582 3.4657359  3.71357207 4.07753744 3.33220451\n",
            " 3.58351894 3.76120012]\n"
          ]
        }
      ]
    },
    {
      "cell_type": "code",
      "source": [
        "# Pandas\n",
        "import pandas as pd\n",
        "\n"
      ],
      "metadata": {
        "id": "qhft81psTE-A"
      },
      "execution_count": null,
      "outputs": []
    },
    {
      "cell_type": "code",
      "source": [
        "vals = [453, 349, 54]\n",
        "# Creamos un array de valores numéricos\n",
        "serie = pd.Series(vals)\n",
        "# Lo convertimos en una serie para poder usar los métodos de pandas\n",
        "print(serie)\n",
        "# Podemos modificar el index de nuestra serie ya existente\n",
        "serie.index = ['a','b','c']\n",
        "print(serie)\n",
        "# Una serie puede usar la lógica del sliced\n",
        "print(serie[:2])\n",
        "# También podemos actualizar los valores de una serie, deben ser del mismo tipo\n",
        "# de dato\n",
        "serie[0] = 12\n"
      ],
      "metadata": {
        "colab": {
          "base_uri": "https://localhost:8080/"
        },
        "id": "CN9SrCAjTHQB",
        "outputId": "b4760e2d-9f7e-4ee4-8316-011cede00971"
      },
      "execution_count": null,
      "outputs": [
        {
          "output_type": "stream",
          "name": "stdout",
          "text": [
            "0    453\n",
            "1    349\n",
            "2     54\n",
            "dtype: int64\n",
            "a    453\n",
            "b    349\n",
            "c     54\n",
            "dtype: int64\n",
            "a    453\n",
            "b    349\n",
            "dtype: int64\n"
          ]
        }
      ]
    },
    {
      "cell_type": "code",
      "source": [
        "# Una serie puede tener el atributo nombre\n",
        "serie = pd.Series(vals, name ='Estado de cuenta mensual')\n",
        "print(serie)\n",
        "# Con describe podemos obtener los datos estadísticos de nuestra serie\n",
        "print(serie.describe())"
      ],
      "metadata": {
        "colab": {
          "base_uri": "https://localhost:8080/"
        },
        "id": "qEYchIN5TJ2x",
        "outputId": "99ccef66-793e-4933-f6ed-d54254906288"
      },
      "execution_count": null,
      "outputs": [
        {
          "output_type": "stream",
          "name": "stdout",
          "text": [
            "0    453\n",
            "1    349\n",
            "2     54\n",
            "Name: Estado de cuenta mensual, dtype: int64\n",
            "count      3.000000\n",
            "mean     285.333333\n",
            "std      206.979065\n",
            "min       54.000000\n",
            "25%      201.500000\n",
            "50%      349.000000\n",
            "75%      401.000000\n",
            "max      453.000000\n",
            "Name: Estado de cuenta mensual, dtype: float64\n"
          ]
        }
      ]
    },
    {
      "cell_type": "code",
      "source": [
        "vals_index = pd.date_range('2022-03-14', periods = len(vals), freq = 'M')\n",
        "# Con la función pd.date_range() hemos creado los índices de nuestra serie \n",
        "# tomando fechas que aumentan mensualmente\n",
        "serie.index = vals_index\n",
        "print(serie)"
      ],
      "metadata": {
        "colab": {
          "base_uri": "https://localhost:8080/"
        },
        "id": "hAakAIJETMY2",
        "outputId": "f4cab7a0-c350-4e90-fb04-fd95e404fb2c"
      },
      "execution_count": null,
      "outputs": [
        {
          "output_type": "stream",
          "name": "stdout",
          "text": [
            "2022-03-31    453\n",
            "2022-04-30    349\n",
            "2022-05-31     54\n",
            "Freq: M, Name: Estado de cuenta mensual, dtype: int64\n"
          ]
        }
      ]
    },
    {
      "cell_type": "code",
      "source": [
        "print(serie.iloc[2])\n",
        "# Ya que muchas veces nuestro index es algo complejo, con .iloc podemos acceder \n",
        "# a los valores que queramos siguiendo la lógica del index\n",
        "print(serie[serie < np.mean(serie)])\n",
        "# las series permiten añadir condiciones para clasificar datos"
      ],
      "metadata": {
        "id": "dma58pknTPDV"
      },
      "execution_count": null,
      "outputs": []
    },
    {
      "cell_type": "markdown",
      "source": [
        "Parte 5"
      ],
      "metadata": {
        "id": "NclrdQKHTQUk"
      }
    },
    {
      "cell_type": "code",
      "source": [
        ""
      ],
      "metadata": {
        "id": "Bwy1haYrTP4N"
      },
      "execution_count": null,
      "outputs": []
    },
    {
      "cell_type": "code",
      "execution_count": null,
      "metadata": {
        "colab": {
          "base_uri": "https://localhost:8080/"
        },
        "id": "P_x3LTMkUvlN",
        "outputId": "82b17735-d4fd-4c92-bccd-9ba7a0a45318"
      },
      "outputs": [
        {
          "output_type": "stream",
          "name": "stdout",
          "text": [
            "Requirement already satisfied: yfinance in /usr/local/lib/python3.7/dist-packages (0.1.70)\n",
            "Requirement already satisfied: lxml>=4.5.1 in /usr/local/lib/python3.7/dist-packages (from yfinance) (4.8.0)\n",
            "Requirement already satisfied: multitasking>=0.0.7 in /usr/local/lib/python3.7/dist-packages (from yfinance) (0.0.10)\n",
            "Requirement already satisfied: requests>=2.26 in /usr/local/lib/python3.7/dist-packages (from yfinance) (2.27.1)\n",
            "Requirement already satisfied: numpy>=1.15 in /usr/local/lib/python3.7/dist-packages (from yfinance) (1.21.5)\n",
            "Requirement already satisfied: pandas>=0.24.0 in /usr/local/lib/python3.7/dist-packages (from yfinance) (1.3.5)\n",
            "Requirement already satisfied: pytz>=2017.3 in /usr/local/lib/python3.7/dist-packages (from pandas>=0.24.0->yfinance) (2018.9)\n",
            "Requirement already satisfied: python-dateutil>=2.7.3 in /usr/local/lib/python3.7/dist-packages (from pandas>=0.24.0->yfinance) (2.8.2)\n",
            "Requirement already satisfied: six>=1.5 in /usr/local/lib/python3.7/dist-packages (from python-dateutil>=2.7.3->pandas>=0.24.0->yfinance) (1.15.0)\n",
            "Requirement already satisfied: idna<4,>=2.5 in /usr/local/lib/python3.7/dist-packages (from requests>=2.26->yfinance) (2.10)\n",
            "Requirement already satisfied: charset-normalizer~=2.0.0 in /usr/local/lib/python3.7/dist-packages (from requests>=2.26->yfinance) (2.0.12)\n",
            "Requirement already satisfied: certifi>=2017.4.17 in /usr/local/lib/python3.7/dist-packages (from requests>=2.26->yfinance) (2021.10.8)\n",
            "Requirement already satisfied: urllib3<1.27,>=1.21.1 in /usr/local/lib/python3.7/dist-packages (from requests>=2.26->yfinance) (1.24.3)\n"
          ]
        }
      ],
      "source": [
        "!pip install yfinance\n",
        "#Instalamos la libreria"
      ]
    },
    {
      "cell_type": "code",
      "execution_count": null,
      "metadata": {
        "colab": {
          "base_uri": "https://localhost:8080/",
          "height": 472
        },
        "id": "2MzWUSjnWLhj",
        "outputId": "71b39796-81c0-46d0-fa3f-420f87cb5720"
      },
      "outputs": [
        {
          "output_type": "stream",
          "name": "stdout",
          "text": [
            "{'regularMarketPrice': None, 'preMarketPrice': None, 'logo_url': ''}\n"
          ]
        },
        {
          "output_type": "execute_result",
          "data": {
            "text/plain": [
              "               Open     High      Low    Close  Volume  Dividends  \\\n",
              "Date                                                                \n",
              "2015-01-02  0.01244  0.01244  0.01244  0.01244       0          0   \n",
              "2015-01-05  0.01244  0.01244  0.01244  0.01244       0          0   \n",
              "2015-01-06  0.01244  0.01244  0.01244  0.01244       0          0   \n",
              "2015-01-07  0.01244  0.01244  0.01244  0.01244       0          0   \n",
              "2015-01-08  0.01244  0.01244  0.01244  0.01244       0          0   \n",
              "...             ...      ...      ...      ...     ...        ...   \n",
              "2016-12-23  0.03300  0.03300  0.03300  0.03300       0          0   \n",
              "2016-12-27  0.03800  0.03800  0.03800  0.03800       0          0   \n",
              "2016-12-28  0.03400  0.03400  0.03400  0.03400       0          0   \n",
              "2016-12-29  0.03400  0.03400  0.03400  0.03400       0          0   \n",
              "2016-12-30  0.03400  0.03400  0.03400  0.03400       0          0   \n",
              "\n",
              "            Stock Splits  \n",
              "Date                      \n",
              "2015-01-02             0  \n",
              "2015-01-05             0  \n",
              "2015-01-06             0  \n",
              "2015-01-07             0  \n",
              "2015-01-08             0  \n",
              "...                  ...  \n",
              "2016-12-23             0  \n",
              "2016-12-27             0  \n",
              "2016-12-28             0  \n",
              "2016-12-29             0  \n",
              "2016-12-30             0  \n",
              "\n",
              "[384 rows x 7 columns]"
            ],
            "text/html": [
              "\n",
              "  <div id=\"df-50270cf8-15b4-4aec-bdeb-c2fdffa7c74d\">\n",
              "    <div class=\"colab-df-container\">\n",
              "      <div>\n",
              "<style scoped>\n",
              "    .dataframe tbody tr th:only-of-type {\n",
              "        vertical-align: middle;\n",
              "    }\n",
              "\n",
              "    .dataframe tbody tr th {\n",
              "        vertical-align: top;\n",
              "    }\n",
              "\n",
              "    .dataframe thead th {\n",
              "        text-align: right;\n",
              "    }\n",
              "</style>\n",
              "<table border=\"1\" class=\"dataframe\">\n",
              "  <thead>\n",
              "    <tr style=\"text-align: right;\">\n",
              "      <th></th>\n",
              "      <th>Open</th>\n",
              "      <th>High</th>\n",
              "      <th>Low</th>\n",
              "      <th>Close</th>\n",
              "      <th>Volume</th>\n",
              "      <th>Dividends</th>\n",
              "      <th>Stock Splits</th>\n",
              "    </tr>\n",
              "    <tr>\n",
              "      <th>Date</th>\n",
              "      <th></th>\n",
              "      <th></th>\n",
              "      <th></th>\n",
              "      <th></th>\n",
              "      <th></th>\n",
              "      <th></th>\n",
              "      <th></th>\n",
              "    </tr>\n",
              "  </thead>\n",
              "  <tbody>\n",
              "    <tr>\n",
              "      <th>2015-01-02</th>\n",
              "      <td>0.01244</td>\n",
              "      <td>0.01244</td>\n",
              "      <td>0.01244</td>\n",
              "      <td>0.01244</td>\n",
              "      <td>0</td>\n",
              "      <td>0</td>\n",
              "      <td>0</td>\n",
              "    </tr>\n",
              "    <tr>\n",
              "      <th>2015-01-05</th>\n",
              "      <td>0.01244</td>\n",
              "      <td>0.01244</td>\n",
              "      <td>0.01244</td>\n",
              "      <td>0.01244</td>\n",
              "      <td>0</td>\n",
              "      <td>0</td>\n",
              "      <td>0</td>\n",
              "    </tr>\n",
              "    <tr>\n",
              "      <th>2015-01-06</th>\n",
              "      <td>0.01244</td>\n",
              "      <td>0.01244</td>\n",
              "      <td>0.01244</td>\n",
              "      <td>0.01244</td>\n",
              "      <td>0</td>\n",
              "      <td>0</td>\n",
              "      <td>0</td>\n",
              "    </tr>\n",
              "    <tr>\n",
              "      <th>2015-01-07</th>\n",
              "      <td>0.01244</td>\n",
              "      <td>0.01244</td>\n",
              "      <td>0.01244</td>\n",
              "      <td>0.01244</td>\n",
              "      <td>0</td>\n",
              "      <td>0</td>\n",
              "      <td>0</td>\n",
              "    </tr>\n",
              "    <tr>\n",
              "      <th>2015-01-08</th>\n",
              "      <td>0.01244</td>\n",
              "      <td>0.01244</td>\n",
              "      <td>0.01244</td>\n",
              "      <td>0.01244</td>\n",
              "      <td>0</td>\n",
              "      <td>0</td>\n",
              "      <td>0</td>\n",
              "    </tr>\n",
              "    <tr>\n",
              "      <th>...</th>\n",
              "      <td>...</td>\n",
              "      <td>...</td>\n",
              "      <td>...</td>\n",
              "      <td>...</td>\n",
              "      <td>...</td>\n",
              "      <td>...</td>\n",
              "      <td>...</td>\n",
              "    </tr>\n",
              "    <tr>\n",
              "      <th>2016-12-23</th>\n",
              "      <td>0.03300</td>\n",
              "      <td>0.03300</td>\n",
              "      <td>0.03300</td>\n",
              "      <td>0.03300</td>\n",
              "      <td>0</td>\n",
              "      <td>0</td>\n",
              "      <td>0</td>\n",
              "    </tr>\n",
              "    <tr>\n",
              "      <th>2016-12-27</th>\n",
              "      <td>0.03800</td>\n",
              "      <td>0.03800</td>\n",
              "      <td>0.03800</td>\n",
              "      <td>0.03800</td>\n",
              "      <td>0</td>\n",
              "      <td>0</td>\n",
              "      <td>0</td>\n",
              "    </tr>\n",
              "    <tr>\n",
              "      <th>2016-12-28</th>\n",
              "      <td>0.03400</td>\n",
              "      <td>0.03400</td>\n",
              "      <td>0.03400</td>\n",
              "      <td>0.03400</td>\n",
              "      <td>0</td>\n",
              "      <td>0</td>\n",
              "      <td>0</td>\n",
              "    </tr>\n",
              "    <tr>\n",
              "      <th>2016-12-29</th>\n",
              "      <td>0.03400</td>\n",
              "      <td>0.03400</td>\n",
              "      <td>0.03400</td>\n",
              "      <td>0.03400</td>\n",
              "      <td>0</td>\n",
              "      <td>0</td>\n",
              "      <td>0</td>\n",
              "    </tr>\n",
              "    <tr>\n",
              "      <th>2016-12-30</th>\n",
              "      <td>0.03400</td>\n",
              "      <td>0.03400</td>\n",
              "      <td>0.03400</td>\n",
              "      <td>0.03400</td>\n",
              "      <td>0</td>\n",
              "      <td>0</td>\n",
              "      <td>0</td>\n",
              "    </tr>\n",
              "  </tbody>\n",
              "</table>\n",
              "<p>384 rows × 7 columns</p>\n",
              "</div>\n",
              "      <button class=\"colab-df-convert\" onclick=\"convertToInteractive('df-50270cf8-15b4-4aec-bdeb-c2fdffa7c74d')\"\n",
              "              title=\"Convert this dataframe to an interactive table.\"\n",
              "              style=\"display:none;\">\n",
              "        \n",
              "  <svg xmlns=\"http://www.w3.org/2000/svg\" height=\"24px\"viewBox=\"0 0 24 24\"\n",
              "       width=\"24px\">\n",
              "    <path d=\"M0 0h24v24H0V0z\" fill=\"none\"/>\n",
              "    <path d=\"M18.56 5.44l.94 2.06.94-2.06 2.06-.94-2.06-.94-.94-2.06-.94 2.06-2.06.94zm-11 1L8.5 8.5l.94-2.06 2.06-.94-2.06-.94L8.5 2.5l-.94 2.06-2.06.94zm10 10l.94 2.06.94-2.06 2.06-.94-2.06-.94-.94-2.06-.94 2.06-2.06.94z\"/><path d=\"M17.41 7.96l-1.37-1.37c-.4-.4-.92-.59-1.43-.59-.52 0-1.04.2-1.43.59L10.3 9.45l-7.72 7.72c-.78.78-.78 2.05 0 2.83L4 21.41c.39.39.9.59 1.41.59.51 0 1.02-.2 1.41-.59l7.78-7.78 2.81-2.81c.8-.78.8-2.07 0-2.86zM5.41 20L4 18.59l7.72-7.72 1.47 1.35L5.41 20z\"/>\n",
              "  </svg>\n",
              "      </button>\n",
              "      \n",
              "  <style>\n",
              "    .colab-df-container {\n",
              "      display:flex;\n",
              "      flex-wrap:wrap;\n",
              "      gap: 12px;\n",
              "    }\n",
              "\n",
              "    .colab-df-convert {\n",
              "      background-color: #E8F0FE;\n",
              "      border: none;\n",
              "      border-radius: 50%;\n",
              "      cursor: pointer;\n",
              "      display: none;\n",
              "      fill: #1967D2;\n",
              "      height: 32px;\n",
              "      padding: 0 0 0 0;\n",
              "      width: 32px;\n",
              "    }\n",
              "\n",
              "    .colab-df-convert:hover {\n",
              "      background-color: #E2EBFA;\n",
              "      box-shadow: 0px 1px 2px rgba(60, 64, 67, 0.3), 0px 1px 3px 1px rgba(60, 64, 67, 0.15);\n",
              "      fill: #174EA6;\n",
              "    }\n",
              "\n",
              "    [theme=dark] .colab-df-convert {\n",
              "      background-color: #3B4455;\n",
              "      fill: #D2E3FC;\n",
              "    }\n",
              "\n",
              "    [theme=dark] .colab-df-convert:hover {\n",
              "      background-color: #434B5C;\n",
              "      box-shadow: 0px 1px 3px 1px rgba(0, 0, 0, 0.15);\n",
              "      filter: drop-shadow(0px 1px 2px rgba(0, 0, 0, 0.3));\n",
              "      fill: #FFFFFF;\n",
              "    }\n",
              "  </style>\n",
              "\n",
              "      <script>\n",
              "        const buttonEl =\n",
              "          document.querySelector('#df-50270cf8-15b4-4aec-bdeb-c2fdffa7c74d button.colab-df-convert');\n",
              "        buttonEl.style.display =\n",
              "          google.colab.kernel.accessAllowed ? 'block' : 'none';\n",
              "\n",
              "        async function convertToInteractive(key) {\n",
              "          const element = document.querySelector('#df-50270cf8-15b4-4aec-bdeb-c2fdffa7c74d');\n",
              "          const dataTable =\n",
              "            await google.colab.kernel.invokeFunction('convertToInteractive',\n",
              "                                                     [key], {});\n",
              "          if (!dataTable) return;\n",
              "\n",
              "          const docLinkHtml = 'Like what you see? Visit the ' +\n",
              "            '<a target=\"_blank\" href=https://colab.research.google.com/notebooks/data_table.ipynb>data table notebook</a>'\n",
              "            + ' to learn more about interactive tables.';\n",
              "          element.innerHTML = '';\n",
              "          dataTable['output_type'] = 'display_data';\n",
              "          await google.colab.output.renderOutput(dataTable, element);\n",
              "          const docLink = document.createElement('div');\n",
              "          docLink.innerHTML = docLinkHtml;\n",
              "          element.appendChild(docLink);\n",
              "        }\n",
              "      </script>\n",
              "    </div>\n",
              "  </div>\n",
              "  "
            ]
          },
          "metadata": {},
          "execution_count": 57
        }
      ],
      "source": [
        "import yfinance as yf\n",
        "\n",
        "rui = yf.Ticker(\"RUI\") #Llamamos la informacion de Russell 1000 Index \n",
        "\n",
        "# get stock info\n",
        "print(rui.info)\n",
        "\n",
        "# get historical market data\n",
        "rui_table = rui.history(start=\"2015-01-01\",  end=\"2016-12-31\") # buscamos el historial de Russell 1000 Index durante 2015 y 2016\n",
        "rui_table"
      ]
    },
    {
      "cell_type": "code",
      "execution_count": null,
      "metadata": {
        "colab": {
          "base_uri": "https://localhost:8080/"
        },
        "id": "CIBKo_CxHC8r",
        "outputId": "6292e0f4-b298-4495-927d-cf3b5c2d5a8c"
      },
      "outputs": [
        {
          "output_type": "stream",
          "name": "stdout",
          "text": [
            "Date\n",
            "2016-01-11    0.023\n",
            "2016-01-12    0.023\n",
            "2016-01-13    0.024\n",
            "2016-01-14    0.023\n",
            "2016-01-15    0.023\n",
            "              ...  \n",
            "2016-12-23    0.033\n",
            "2016-12-27    0.038\n",
            "2016-12-28    0.034\n",
            "2016-12-29    0.034\n",
            "2016-12-30    0.034\n",
            "Name: Close, Length: 141, dtype: float64\n"
          ]
        }
      ],
      "source": [
        "rui = rui_table['Close']['2016'] #tomamos unicamente las cifras del año 2016 que tuvo RUI\n",
        "print(rui)"
      ]
    },
    {
      "cell_type": "code",
      "execution_count": null,
      "metadata": {
        "colab": {
          "base_uri": "https://localhost:8080/"
        },
        "id": "fiWYRn1qHT1k",
        "outputId": "60bb1677-3c69-46c0-ddae-8c3201528bee"
      },
      "outputs": [
        {
          "output_type": "stream",
          "name": "stdout",
          "text": [
            "Date\n",
            "2016-04-04    0.028\n",
            "2016-04-05    0.028\n",
            "2016-04-06    0.028\n",
            "2016-04-07    0.028\n",
            "2016-04-08    0.027\n",
            "2016-04-11    0.027\n",
            "2016-04-12    0.028\n",
            "2016-04-13    0.028\n",
            "2016-04-14    0.028\n",
            "2016-04-15    0.030\n",
            "2016-04-18    0.030\n",
            "2016-04-19    0.030\n",
            "2016-04-20    0.027\n",
            "2016-04-21    0.027\n",
            "2016-04-22    0.027\n",
            "2016-04-25    0.031\n",
            "2016-04-26    0.027\n",
            "2016-04-27    0.027\n",
            "2016-04-28    0.026\n",
            "2016-04-29    0.026\n",
            "Name: Close, dtype: float64\n"
          ]
        }
      ],
      "source": [
        "print(rui['2016-4'])# pedimos que nos muestre los valores que obvtuvo RUI en el mes de abril"
      ]
    },
    {
      "cell_type": "code",
      "execution_count": null,
      "metadata": {
        "colab": {
          "base_uri": "https://localhost:8080/"
        },
        "id": "1cxo9q1WHlOH",
        "outputId": "258fa430-5517-4be6-f7ea-842013ceaa85"
      },
      "outputs": [
        {
          "output_type": "execute_result",
          "data": {
            "text/plain": [
              "Date\n",
              "2016-02-01    0.023\n",
              "2016-02-02    0.015\n",
              "2016-02-03    0.022\n",
              "2016-02-04    0.023\n",
              "2016-02-05    0.022\n",
              "              ...  \n",
              "2016-12-23    0.033\n",
              "2016-12-27    0.038\n",
              "2016-12-28    0.034\n",
              "2016-12-29    0.034\n",
              "2016-12-30    0.034\n",
              "Name: Close, Length: 127, dtype: float64"
            ]
          },
          "metadata": {},
          "execution_count": 60
        }
      ],
      "source": [
        "rui['2016-2':'2017-4'] # tambien le podemos pedir un intervalo de meses de los valores de RUI durante estos"
      ]
    },
    {
      "cell_type": "code",
      "execution_count": null,
      "metadata": {
        "colab": {
          "base_uri": "https://localhost:8080/"
        },
        "id": "5q0QlVy_INCM",
        "outputId": "72776d24-fd4d-4cd6-90ac-e421c746c640"
      },
      "outputs": [
        {
          "output_type": "stream",
          "name": "stdout",
          "text": [
            "Date\n",
            "2016-01-11    0.023\n",
            "2016-01-12    0.023\n",
            "2016-01-13    0.024\n",
            "Name: Close, dtype: float64\n",
            "Date\n",
            "2016-11-10    0.036\n",
            "2016-11-11    0.036\n",
            "2016-11-14    0.036\n",
            "2016-12-14    0.035\n",
            "2016-12-15    0.035\n",
            "2016-12-16    0.035\n",
            "2016-12-19    0.027\n",
            "2016-12-20    0.027\n",
            "2016-12-21    0.027\n",
            "2016-12-22    0.030\n",
            "2016-12-23    0.033\n",
            "2016-12-27    0.038\n",
            "2016-12-28    0.034\n",
            "2016-12-29    0.034\n",
            "2016-12-30    0.034\n",
            "Name: Close, dtype: float64\n"
          ]
        }
      ],
      "source": [
        "print(rui.head(3)) # con '.head(x)' le pedimos x valores iniciales del resgistro que estemos manejando // en este caso del año 2016\n",
        "print(rui.tail(15))# con '.tail(x)' le pedimos x valores finales del resgistro que estemos manejando // en este caso del año 2016"
      ]
    },
    {
      "cell_type": "code",
      "execution_count": null,
      "metadata": {
        "colab": {
          "base_uri": "https://localhost:8080/"
        },
        "id": "K7IGWf-cIryj",
        "outputId": "40acc5a8-d6b0-4b87-a298-7e4d8c80f3e9"
      },
      "outputs": [
        {
          "output_type": "stream",
          "name": "stdout",
          "text": [
            "Date\n",
            "2016-01-31     4.889357\n",
            "2016-02-29     0.022150\n",
            "2016-03-31     0.024400\n",
            "2016-04-30     0.027900\n",
            "2016-05-31     0.025154\n",
            "2016-06-30     0.025500\n",
            "2016-07-31    18.034499\n",
            "2016-08-31     0.029600\n",
            "2016-09-30     4.329474\n",
            "2016-10-31     0.035000\n",
            "2016-11-30     0.035750\n",
            "2016-12-31     0.032417\n",
            "Freq: M, Name: Close, dtype: float64\n"
          ]
        }
      ],
      "source": [
        "mensual = rui.resample('M').mean() #Por medio de la sentencia '.resample('M')' llammamos a los valores mensuales que tuvo el RUI // el 'M' es la frecuencia la cual referencia mensualmente// y el '.mean()' saca la media de estos valores que vemos impresos en consola\n",
        "print(mensual)"
      ]
    },
    {
      "cell_type": "code",
      "execution_count": null,
      "metadata": {
        "colab": {
          "base_uri": "https://localhost:8080/"
        },
        "id": "Sq9u2oh5KLdF",
        "outputId": "50c6ce75-1e07-48c2-b74c-cef2e6b57ce8"
      },
      "outputs": [
        {
          "output_type": "stream",
          "name": "stdout",
          "text": [
            "Date\n",
            "2016-01-17     0.023200\n",
            "2016-01-24     0.022000\n",
            "2016-01-31    13.649400\n",
            "2016-02-07     0.021000\n",
            "2016-02-14     0.022000\n",
            "2016-02-21     0.022500\n",
            "2016-02-28     0.023000\n",
            "2016-03-06     0.023400\n",
            "2016-03-13     0.024400\n",
            "2016-03-20          NaN\n",
            "2016-03-27     0.028000\n",
            "2016-04-03          NaN\n",
            "2016-04-10     0.027800\n",
            "2016-04-17     0.028200\n",
            "2016-04-24     0.028200\n",
            "2016-05-01     0.027400\n",
            "2016-05-08     0.025400\n",
            "2016-05-15     0.025000\n",
            "2016-05-22          NaN\n",
            "2016-05-29     0.025000\n",
            "2016-06-05     0.023500\n",
            "2016-06-12     0.025000\n",
            "2016-06-19     0.026400\n",
            "2016-06-26     0.026600\n",
            "2016-07-03          NaN\n",
            "2016-07-10          NaN\n",
            "2016-07-17          NaN\n",
            "2016-07-24     0.026000\n",
            "2016-07-31    72.059998\n",
            "2016-08-07     0.023000\n",
            "2016-08-14          NaN\n",
            "2016-08-21     0.030000\n",
            "2016-08-28     0.031667\n",
            "2016-09-04          NaN\n",
            "2016-09-11     0.030750\n",
            "2016-09-18     0.031400\n",
            "2016-09-25     0.031400\n",
            "2016-10-02    16.364599\n",
            "2016-10-09          NaN\n",
            "2016-10-16     0.035000\n",
            "2016-10-23          NaN\n",
            "2016-10-30          NaN\n",
            "2016-11-06          NaN\n",
            "2016-11-13     0.035667\n",
            "2016-11-20     0.036000\n",
            "2016-11-27          NaN\n",
            "2016-12-04          NaN\n",
            "2016-12-11          NaN\n",
            "2016-12-18     0.035000\n",
            "2016-12-25     0.028800\n",
            "2017-01-01     0.035000\n",
            "Freq: W-SUN, Name: Close, dtype: float64\n"
          ]
        }
      ],
      "source": [
        "semanal = rui.resample('W').mean() #Por medio de la sentencia '.resample('W')' llammamos a los valores semanalmente que tuvo el RUI // el 'W' es la frecuencia la cual referencia Semanalmente// y el '.mean()' saca la media de estos valores que vemos impresos en consola\n",
        "print(semanal) # verifica que se realice de manera correcta por medio de la impresion"
      ]
    },
    {
      "cell_type": "code",
      "execution_count": null,
      "metadata": {
        "colab": {
          "base_uri": "https://localhost:8080/"
        },
        "id": "iTTrZ-IvLDNx",
        "outputId": "272a2af8-d7bb-45c6-8730-e2d94fc704ad"
      },
      "outputs": [
        {
          "output_type": "execute_result",
          "data": {
            "text/plain": [
              "Date\n",
              "2016-01-31    68.180000\n",
              "2016-02-29     0.023000\n",
              "2016-03-31     0.028000\n",
              "2016-04-30     0.031000\n",
              "2016-05-31     0.026000\n",
              "2016-06-30     0.029000\n",
              "2016-07-31    72.059998\n",
              "2016-08-31     0.032000\n",
              "2016-09-30    81.699997\n",
              "2016-10-31     0.035000\n",
              "2016-11-30     0.036000\n",
              "2016-12-31     0.038000\n",
              "Freq: M, Name: Close, dtype: float64"
            ]
          },
          "metadata": {},
          "execution_count": 64
        }
      ],
      "source": [
        "rui.resample('M').max() # En este caso con el '.max' recolectamos el valor mas alto de cada mes durante el periodo que estemos manejando en este caso 2016\n"
      ]
    },
    {
      "cell_type": "code",
      "execution_count": null,
      "metadata": {
        "colab": {
          "base_uri": "https://localhost:8080/"
        },
        "id": "4-CUNBNULhB7",
        "outputId": "d6effbe5-dd56-428a-c2a7-be17113e4830"
      },
      "outputs": [
        {
          "output_type": "stream",
          "name": "stdout",
          "text": [
            "Date\n",
            "2016-12-31    10.742137\n",
            "Freq: A-DEC, Name: Close, dtype: float64\n",
            "Date\n",
            "2016-12-31    81.699997\n",
            "Freq: A-DEC, Name: Close, dtype: float64\n",
            "Date\n",
            "2016-12-31    0.01\n",
            "Freq: A-DEC, Name: Close, dtype: float64\n"
          ]
        }
      ],
      "source": [
        "std = rui.resample('A').std() #calcula la desvicion estandar que existio durante el año las acciones RUI\n",
        "max = rui.resample('A').max() #calcula el valor maximo que obtuvo durante el año las acciones RUI\n",
        "min = rui.resample('A').min() #Calcula el valor mas bajo que obtuvieron las acciones RUI durante este año 2016\n",
        "\n",
        "\n",
        "print(std)\n",
        "print(max)\n",
        "print(min)"
      ]
    },
    {
      "cell_type": "code",
      "execution_count": null,
      "metadata": {
        "colab": {
          "base_uri": "https://localhost:8080/"
        },
        "id": "b60r_a12NAxG",
        "outputId": "23501686-7c8d-45cc-d8fb-bd212ac41571"
      },
      "outputs": [
        {
          "output_type": "stream",
          "name": "stdout",
          "text": [
            "Date\n",
            "2016-01-31     0.023000\n",
            "2016-02-29     0.023000\n",
            "2016-03-31     0.028000\n",
            "2016-04-30     0.026000\n",
            "2016-05-31     0.025000\n",
            "2016-06-30     0.027000\n",
            "2016-07-31    72.059998\n",
            "2016-08-31     0.032000\n",
            "2016-09-30     0.031000\n",
            "2016-10-31     0.035000\n",
            "2016-11-30     0.036000\n",
            "2016-12-31     0.034000\n",
            "Freq: M, Name: Close, dtype: float64\n"
          ]
        }
      ],
      "source": [
        "ultimo_dia = rui.resample('M').agg(lambda x: x[-1]) #por medio de esta funcion recuperamos el ultimo valor que obtuvo la accion durante cada mes \n",
        "print(ultimo_dia)# verificamos que si este imprimiendo el ultimo valor del mes de manera correcta"
      ]
    },
    {
      "cell_type": "code",
      "execution_count": null,
      "metadata": {
        "colab": {
          "base_uri": "https://localhost:8080/"
        },
        "id": "lMxeI3koNqw6",
        "outputId": "3bba069f-6c97-4b8f-fd54-ecd986942e9b"
      },
      "outputs": [
        {
          "output_type": "stream",
          "name": "stdout",
          "text": [
            "Date\n",
            "2016-01-31       0.000000\n",
            "2016-02-29       0.000000\n",
            "2016-03-31       0.217391\n",
            "2016-04-30      -0.071429\n",
            "2016-05-31      -0.038462\n",
            "2016-06-30       0.080000\n",
            "2016-07-31    2770.538310\n",
            "2016-08-31       0.391304\n",
            "2016-09-30       0.000000\n",
            "2016-10-31       0.000000\n",
            "2016-11-30       0.028571\n",
            "2016-12-31      -0.028571\n",
            "Freq: M, Name: Close, dtype: float64\n",
            "230.92642634104823\n",
            "799.7703404499701\n",
            "2770.5383104547977\n"
          ]
        }
      ],
      "source": [
        "retorno_mensual = rui.resample('M').agg(lambda x: x[-1]/x[0] - 1) #recolectamos los valores del primer dia del mes durante el periodo en que nos encontremos en este caso el 2016\n",
        "print(retorno_mensual)#verificamos que estemos recolectando los datos de manera correcta\n",
        "print(retorno_mensual.mean()) #verificamos la media de retorno mensual que obtiene la accion RUI\n",
        "print(retorno_mensual.std()) #calculamos la desviacion  estandar que tiene el retorno mensual de la accion RUI\n",
        "print(retorno_mensual.max()) #buscamos cual  fue el mes que mas tuvo retorno la moneda RUI"
      ]
    },
    {
      "cell_type": "code",
      "execution_count": null,
      "metadata": {
        "colab": {
          "base_uri": "https://localhost:8080/"
        },
        "id": "VUw_rIeGPLy4",
        "outputId": "82c16a7c-cabd-4a25-a9e0-4715c6fdf989"
      },
      "outputs": [
        {
          "output_type": "stream",
          "name": "stdout",
          "text": [
            "Date\n",
            "2016-01-31          NaN\n",
            "2016-02-29     0.000000\n",
            "2016-03-31     0.005000\n",
            "2016-04-30    -0.002000\n",
            "2016-05-31    -0.001000\n",
            "2016-06-30     0.002000\n",
            "2016-07-31    72.032998\n",
            "2016-08-31   -72.027998\n",
            "2016-09-30    -0.001000\n",
            "2016-10-31     0.004000\n",
            "2016-11-30     0.001000\n",
            "2016-12-31    -0.002000\n",
            "Freq: M, Name: Close, dtype: float64\n",
            "Date\n",
            "2016-01-31            NaN\n",
            "2016-02-29       0.000000\n",
            "2016-03-31       0.217391\n",
            "2016-04-30      -0.071429\n",
            "2016-05-31      -0.038462\n",
            "2016-06-30       0.080000\n",
            "2016-07-31    2667.888729\n",
            "2016-08-31      -0.999556\n",
            "2016-09-30      -0.031250\n",
            "2016-10-31       0.129032\n",
            "2016-11-30       0.028571\n",
            "2016-12-31      -0.055555\n",
            "Freq: M, Name: Close, dtype: float64\n"
          ]
        }
      ],
      "source": [
        "print(ultimo_dia.diff()) #este metodo '.diff()' calcula la suma de las diferencias del valor de cada accion  de dias  consecutivos que tuvo la accion durante el mes\n",
        "print(ultimo_dia.pct_change()) #calcula el cambio porcentual que tuvo la accion durante el mes"
      ]
    },
    {
      "cell_type": "code",
      "execution_count": null,
      "metadata": {
        "colab": {
          "base_uri": "https://localhost:8080/"
        },
        "id": "18iRrd46QRwe",
        "outputId": "8690ca9c-8f97-45f6-fd34-89b1d708e0da"
      },
      "outputs": [
        {
          "output_type": "stream",
          "name": "stdout",
          "text": [
            "Date\n",
            "2016-01-31       0.000000\n",
            "2016-02-29       0.000000\n",
            "2016-03-31       0.217391\n",
            "2016-04-30      -0.071429\n",
            "2016-05-31      -0.038462\n",
            "2016-06-30       0.080000\n",
            "2016-07-31    2667.888729\n",
            "2016-08-31      -0.999556\n",
            "2016-09-30      -0.031250\n",
            "2016-10-31       0.129032\n",
            "2016-11-30       0.028571\n",
            "2016-12-31      -0.055555\n",
            "Freq: M, Name: Close, dtype: float64\n"
          ]
        }
      ],
      "source": [
        "retorno_diario = ultimo_dia.pct_change()\n",
        "print(retorno_diario.fillna(0)) #Reemplaza el NaN por 0.0 para entender mejor los retornos diaros que obtuvo la accion"
      ]
    },
    {
      "cell_type": "code",
      "execution_count": null,
      "metadata": {
        "colab": {
          "base_uri": "https://localhost:8080/"
        },
        "id": "ifRpqY2bQW_l",
        "outputId": "725d5d47-d04a-4b0d-ca24-878947f30f5a"
      },
      "outputs": [
        {
          "output_type": "execute_result",
          "data": {
            "text/plain": [
              "Date\n",
              "2016-02-29       0.000000\n",
              "2016-03-31       0.217391\n",
              "2016-04-30      -0.071429\n",
              "2016-05-31      -0.038462\n",
              "2016-06-30       0.080000\n",
              "2016-07-31    2667.888729\n",
              "2016-08-31      -0.999556\n",
              "2016-09-30      -0.031250\n",
              "2016-10-31       0.129032\n",
              "2016-11-30       0.028571\n",
              "2016-12-31      -0.055555\n",
              "Freq: M, Name: Close, dtype: float64"
            ]
          },
          "metadata": {},
          "execution_count": 72
        }
      ],
      "source": [
        "retorno_diario = ultimo_dia.pct_change()\n",
        "retorno_diario.dropna() #Elimina del registro los valores que vengan NaN o sin retorno diario"
      ]
    },
    {
      "cell_type": "markdown",
      "metadata": {
        "id": "KIglBqXeRh7w"
      },
      "source": [
        "Data frames\n"
      ]
    },
    {
      "cell_type": "code",
      "execution_count": null,
      "metadata": {
        "colab": {
          "base_uri": "https://localhost:8080/"
        },
        "id": "v_L3Nl19RgVM",
        "outputId": "65196461-00cf-429c-f0c9-480b227c244e"
      },
      "outputs": [
        {
          "output_type": "stream",
          "name": "stdout",
          "text": [
            "              COMP     NDX     RUI\n",
            "2016-02-21  155.58  898.70  143.50\n",
            "2016-02-28  153.67  911.71  144.09\n",
            "2016-03-06  152.36  906.69  142.73\n",
            "2016-03-13  152.94  918.59  144.18\n",
            "2016-03-20  153.49  926.99  143.77\n"
          ]
        }
      ],
      "source": [
        "import pandas as pd\n",
        "\n",
        "dict = {'COMP': [155.58, 153.67, 152.36, 152.94, 153.49],'NDX':[898.7, 911.71, 906.69, 918.59, 926.99],\n",
        "        'RUI':[143.5, 144.09, 142.73, 144.18, 143.77]}#creamos un diccionario con los valores de las acciones colocando como llave el nombre de las acciones\n",
        "data_index = pd.date_range('2016-02-20',periods = 5, freq = 'W')#colocamos los rangos con el cual queremos que estas acciones queden en este caso desde el 2016-02-20 con una frecuencia semanal\n",
        "df = pd.DataFrame(dict, index = data_index) #tabula la informacion en una tabla\n",
        "print(df)"
      ]
    },
    {
      "cell_type": "code",
      "source": [
        "df = rui_table\n",
        "print(df.Close.tail(5))\n",
        "print(df['Volume'].tail(5))"
      ],
      "metadata": {
        "id": "IQrW-sWBIrdT",
        "outputId": "8f547206-fedf-47d1-c27b-7e9b64637931",
        "colab": {
          "base_uri": "https://localhost:8080/"
        }
      },
      "execution_count": null,
      "outputs": [
        {
          "output_type": "stream",
          "name": "stdout",
          "text": [
            "Date\n",
            "2016-12-23    0.033\n",
            "2016-12-27    0.038\n",
            "2016-12-28    0.034\n",
            "2016-12-29    0.034\n",
            "2016-12-30    0.034\n",
            "Name: Close, dtype: float64\n",
            "Date\n",
            "2016-12-23    0\n",
            "2016-12-27    0\n",
            "2016-12-28    0\n",
            "2016-12-29    0\n",
            "2016-12-30    0\n",
            "Name: Volume, dtype: int64\n"
          ]
        }
      ]
    },
    {
      "cell_type": "code",
      "execution_count": null,
      "metadata": {
        "colab": {
          "base_uri": "https://localhost:8080/"
        },
        "id": "9sbEDJ8tTNbQ",
        "outputId": "cf7f82d6-17b1-460c-dedb-9420e47cb8c4"
      },
      "outputs": [
        {
          "output_type": "stream",
          "name": "stdout",
          "text": [
            "                 Open       High        Low      Close  Volume  Dividends  \\\n",
            "Date                                                                        \n",
            "2016-01-31   0.023000   0.023000   0.023000   0.023000       0          0   \n",
            "2016-02-29   0.023000   0.023000   0.023000   0.023000       0          0   \n",
            "2016-03-31   0.028000   0.028000   0.028000   0.028000       0          0   \n",
            "2016-04-30   0.026000   0.026000   0.026000   0.026000       0          0   \n",
            "2016-05-31   0.025000   0.025000   0.025000   0.025000       0          0   \n",
            "2016-06-30   0.027000   0.027000   0.027000   0.027000       0          0   \n",
            "2016-07-31  71.160004  72.290001  70.730003  72.059998   24217          0   \n",
            "2016-08-31   0.032000   0.032000   0.032000   0.032000       0          0   \n",
            "2016-09-30   0.031000   0.031000   0.031000   0.031000       0          0   \n",
            "2016-10-31   0.035000   0.035000   0.035000   0.035000       0          0   \n",
            "2016-11-30   0.036000   0.036000   0.036000   0.036000       0          0   \n",
            "2016-12-31   0.034000   0.034000   0.034000   0.034000       0          0   \n",
            "\n",
            "            Stock Splits  \n",
            "Date                      \n",
            "2016-01-31             0  \n",
            "2016-02-29             0  \n",
            "2016-03-31             0  \n",
            "2016-04-30             0  \n",
            "2016-05-31             0  \n",
            "2016-06-30             0  \n",
            "2016-07-31             0  \n",
            "2016-08-31             0  \n",
            "2016-09-30             0  \n",
            "2016-10-31             0  \n",
            "2016-11-30             0  \n",
            "2016-12-31             0  \n"
          ]
        },
        {
          "output_type": "stream",
          "name": "stderr",
          "text": [
            "/usr/local/lib/python3.7/dist-packages/ipykernel_launcher.py:1: FutureWarning: Indexing a DataFrame with a datetimelike index using a single string to slice the rows, like `frame[string]`, is deprecated and will be removed in a future version. Use `frame.loc[string]` instead.\n",
            "  \"\"\"Entry point for launching an IPython kernel.\n"
          ]
        }
      ],
      "source": [
        "rui_2016 = df['2016']#referenciamos el año en en cual nos queremos ubicar\n",
        "rui_month = rui_2016.resample('M').agg(lambda x: x[-1]) #obtenemos los valores con una frecuencia mensual 'M' basandonos en el ultimo dia del mes \n",
        "print(rui_month) #verificamos que estemos capturando los valores deseados"
      ]
    },
    {
      "cell_type": "code",
      "execution_count": null,
      "metadata": {
        "colab": {
          "base_uri": "https://localhost:8080/"
        },
        "id": "8p6laG3MU25S",
        "outputId": "41686b6c-98cf-4637-99ff-750f347f90e2"
      },
      "outputs": [
        {
          "output_type": "stream",
          "name": "stdout",
          "text": [
            "                 Open       High        Low      Close\n",
            "Date                                                  \n",
            "2016-01-31   0.023000   0.023000   0.023000   0.023000\n",
            "2016-02-29   0.023000   0.023000   0.023000   0.023000\n",
            "2016-03-31   0.028000   0.028000   0.028000   0.028000\n",
            "2016-04-30   0.026000   0.026000   0.026000   0.026000\n",
            "2016-05-31   0.025000   0.025000   0.025000   0.025000\n",
            "2016-06-30   0.027000   0.027000   0.027000   0.027000\n",
            "2016-07-31  71.160004  72.290001  70.730003  72.059998\n",
            "2016-08-31   0.032000   0.032000   0.032000   0.032000\n",
            "2016-09-30   0.031000   0.031000   0.031000   0.031000\n",
            "2016-10-31   0.035000   0.035000   0.035000   0.035000\n",
            "2016-11-30   0.036000   0.036000   0.036000   0.036000\n",
            "2016-12-31   0.034000   0.034000   0.034000   0.034000\n"
          ]
        }
      ],
      "source": [
        "rui_bar = rui_month[['Open', 'High', 'Low', 'Close']] # podemos modidicar el nombre de las columnas de nuestra informacion \n",
        "print(rui_bar)"
      ]
    },
    {
      "cell_type": "code",
      "execution_count": null,
      "metadata": {
        "colab": {
          "base_uri": "https://localhost:8080/"
        },
        "id": "0AKX28eUVOGi",
        "outputId": "562172ba-14cf-4641-cdab-ad5abb2fae5c"
      },
      "outputs": [
        {
          "output_type": "stream",
          "name": "stdout",
          "text": [
            "             Open   High    Low  Close\n",
            "Date                                  \n",
            "2016-03-31  0.028  0.028  0.028  0.028\n",
            "2016-04-30  0.026  0.026  0.026  0.026\n",
            "2016-05-31  0.025  0.025  0.025  0.025\n",
            "2016-06-30  0.027  0.027  0.027  0.027\n"
          ]
        }
      ],
      "source": [
        "print(rui_month.loc['2016-03':'2016-06',['Open', 'High', 'Low', 'Close']])# tambien podemos especificar los intervalos de tiempo en los cuales queremos obtener esta informacion y sus respectivos nombres de la columna para  tener mayor claridad"
      ]
    },
    {
      "cell_type": "code",
      "execution_count": null,
      "metadata": {
        "colab": {
          "base_uri": "https://localhost:8080/"
        },
        "id": "tFGhN3aZWG5u",
        "outputId": "92c2ba5e-8315-42ed-b53f-911cc02ea3e3"
      },
      "outputs": [
        {
          "output_type": "stream",
          "name": "stdout",
          "text": [
            "             Open   High    Low  Close\n",
            "Date                                  \n",
            "2016-01-31  0.023  0.023  0.023  0.023\n",
            "2016-02-29  0.023  0.023  0.023  0.023\n",
            "2016-03-31  0.028  0.028  0.028  0.028\n",
            "2016-04-30  0.026  0.026  0.026  0.026\n",
            "2016-05-31  0.025  0.025  0.025  0.025\n",
            "2016-06-30  0.027  0.027  0.027  0.027\n",
            "2016-08-31  0.032  0.032  0.032  0.032\n",
            "2016-09-30  0.031  0.031  0.031  0.031\n",
            "2016-10-31  0.035  0.035  0.035  0.035\n",
            "2016-11-30  0.036  0.036  0.036  0.036\n",
            "2016-12-31  0.034  0.034  0.034  0.034\n"
          ]
        }
      ],
      "source": [
        "import numpy as np\n",
        "\n",
        "above = rui_bar[rui_bar.Close <= np.std(rui_bar.Close)] # entre corchetes podemos realizar operaciones logicas para asi obtener un subconjunto de informacio que pueda ser relevante para nosotros\n",
        "print(above)"
      ]
    },
    {
      "cell_type": "code",
      "execution_count": null,
      "metadata": {
        "colab": {
          "base_uri": "https://localhost:8080/"
        },
        "id": "sjm3ZXV2W7Jd",
        "outputId": "1d05b09d-b730-446a-84bd-3efc9e599680"
      },
      "outputs": [
        {
          "output_type": "stream",
          "name": "stdout",
          "text": [
            "                 Open       High        Low      Close      retorno\n",
            "Date                                                               \n",
            "2016-01-31   0.023000   0.023000   0.023000   0.023000          NaN\n",
            "2016-02-29   0.023000   0.023000   0.023000   0.023000     0.000000\n",
            "2016-03-31   0.028000   0.028000   0.028000   0.028000     0.217391\n",
            "2016-04-30   0.026000   0.026000   0.026000   0.026000    -0.071429\n",
            "2016-05-31   0.025000   0.025000   0.025000   0.025000    -0.038462\n",
            "2016-06-30   0.027000   0.027000   0.027000   0.027000     0.080000\n",
            "2016-07-31  71.160004  72.290001  70.730003  72.059998  2667.888729\n",
            "2016-08-31   0.032000   0.032000   0.032000   0.032000    -0.999556\n",
            "2016-09-30   0.031000   0.031000   0.031000   0.031000    -0.031250\n",
            "2016-10-31   0.035000   0.035000   0.035000   0.035000     0.129032\n",
            "2016-11-30   0.036000   0.036000   0.036000   0.036000     0.028571\n",
            "2016-12-31   0.034000   0.034000   0.034000   0.034000    -0.055555\n"
          ]
        },
        {
          "output_type": "stream",
          "name": "stderr",
          "text": [
            "/usr/local/lib/python3.7/dist-packages/ipykernel_launcher.py:1: SettingWithCopyWarning: \n",
            "A value is trying to be set on a copy of a slice from a DataFrame.\n",
            "Try using .loc[row_indexer,col_indexer] = value instead\n",
            "\n",
            "See the caveats in the documentation: https://pandas.pydata.org/pandas-docs/stable/user_guide/indexing.html#returning-a-view-versus-a-copy\n",
            "  \"\"\"Entry point for launching an IPython kernel.\n"
          ]
        }
      ],
      "source": [
        "rui_bar['retorno'] = rui_bar.Close.pct_change() #Añadimos una nueva columna llamada retorno en el cual agregamos el retorno mensual de la accion , como lo haciamos de la misma manera que en la introduccion a data frame\n",
        "print(rui_bar)"
      ]
    },
    {
      "cell_type": "code",
      "execution_count": null,
      "metadata": {
        "colab": {
          "base_uri": "https://localhost:8080/"
        },
        "id": "4__2UZ1mXwcc",
        "outputId": "f36cb7ca-b701-47b2-fa7b-396abcb12e3c"
      },
      "outputs": [
        {
          "output_type": "stream",
          "name": "stdout",
          "text": [
            "             Open   High    Low  Close  retorno\n",
            "Date                                           \n",
            "2016-01-31  False  False  False  False     True\n",
            "2016-02-29  False  False  False  False    False\n",
            "2016-03-31  False  False  False  False    False\n",
            "2016-04-30  False  False  False  False    False\n",
            "2016-05-31  False  False  False  False    False\n",
            "2016-06-30  False  False  False  False    False\n",
            "2016-07-31  False  False  False  False    False\n",
            "2016-08-31  False  False  False  False    False\n",
            "2016-09-30  False  False  False  False    False\n",
            "2016-10-31  False  False  False  False    False\n",
            "2016-11-30  False  False  False  False    False\n",
            "2016-12-31  False  False  False  False    False\n",
            "---------------------------------------------\n",
            "         Open   High    Low  Close retorno\n",
            "count      12     12     12     12      12\n",
            "unique      1      1      1      1       2\n",
            "top     False  False  False  False   False\n",
            "freq       12     12     12     12      11\n"
          ]
        }
      ],
      "source": [
        "missing = rui_bar.isnull()\n",
        "print(missing)\n",
        "print('---------------------------------------------')\n",
        "print(missing.describe())\n",
        "#por medio de esta funcionalidad podemos verificar de manera mas sencilla donde encontramos un retorno de inversion NaN en la tabla"
      ]
    },
    {
      "cell_type": "code",
      "execution_count": null,
      "metadata": {
        "colab": {
          "base_uri": "https://localhost:8080/"
        },
        "id": "QJZPzJMyYGto",
        "outputId": "f698543c-3c38-4079-cee7-ed72811a8d86"
      },
      "outputs": [
        {
          "output_type": "stream",
          "name": "stdout",
          "text": [
            "             Open   High    Low  Close  retorno\n",
            "Date                                           \n",
            "2016-01-31  False  False  False  False     True\n"
          ]
        }
      ],
      "source": [
        "print(missing[missing.retorno == True])# nos dice por medio de un booleano si existe en la columna un NaN"
      ]
    },
    {
      "cell_type": "code",
      "execution_count": null,
      "metadata": {
        "colab": {
          "base_uri": "https://localhost:8080/"
        },
        "id": "8iCj74aFYsno",
        "outputId": "0669cc7d-df50-4579-8ee5-1422e27b5e35"
      },
      "outputs": [
        {
          "output_type": "stream",
          "name": "stdout",
          "text": [
            "                 Open       High        Low      Close      retorno\n",
            "Date                                                               \n",
            "2016-02-29   0.023000   0.023000   0.023000   0.023000     0.000000\n",
            "2016-03-31   0.028000   0.028000   0.028000   0.028000     0.217391\n",
            "2016-04-30   0.026000   0.026000   0.026000   0.026000    -0.071429\n",
            "2016-05-31   0.025000   0.025000   0.025000   0.025000    -0.038462\n",
            "2016-06-30   0.027000   0.027000   0.027000   0.027000     0.080000\n",
            "2016-07-31  71.160004  72.290001  70.730003  72.059998  2667.888729\n",
            "2016-08-31   0.032000   0.032000   0.032000   0.032000    -0.999556\n",
            "2016-09-30   0.031000   0.031000   0.031000   0.031000    -0.031250\n",
            "2016-10-31   0.035000   0.035000   0.035000   0.035000     0.129032\n",
            "2016-11-30   0.036000   0.036000   0.036000   0.036000     0.028571\n",
            "2016-12-31   0.034000   0.034000   0.034000   0.034000    -0.055555\n",
            "\n",
            "--------------------------------------------------\n",
            "\n",
            "                 Open       High        Low      Close      retorno\n",
            "Date                                                               \n",
            "2016-01-31   0.023000   0.023000   0.023000   0.023000     0.000000\n",
            "2016-02-29   0.023000   0.023000   0.023000   0.023000     0.000000\n",
            "2016-03-31   0.028000   0.028000   0.028000   0.028000     0.217391\n",
            "2016-04-30   0.026000   0.026000   0.026000   0.026000    -0.071429\n",
            "2016-05-31   0.025000   0.025000   0.025000   0.025000    -0.038462\n",
            "2016-06-30   0.027000   0.027000   0.027000   0.027000     0.080000\n",
            "2016-07-31  71.160004  72.290001  70.730003  72.059998  2667.888729\n",
            "2016-08-31   0.032000   0.032000   0.032000   0.032000    -0.999556\n",
            "2016-09-30   0.031000   0.031000   0.031000   0.031000    -0.031250\n",
            "2016-10-31   0.035000   0.035000   0.035000   0.035000     0.129032\n",
            "2016-11-30   0.036000   0.036000   0.036000   0.036000     0.028571\n",
            "2016-12-31   0.034000   0.034000   0.034000   0.034000    -0.055555\n"
          ]
        }
      ],
      "source": [
        "drop = rui_bar.dropna() #si encuentra un NaN en retorno borra la fila o en este caso el mes\n",
        "print(drop)\n",
        "print('\\n--------------------------------------------------\\n')\n",
        "fill = rui_bar.fillna(0) # si encuentra un NaN lo reemplaza por una serie de 0's\n",
        "print(fill)"
      ]
    },
    {
      "cell_type": "code",
      "execution_count": null,
      "metadata": {
        "colab": {
          "base_uri": "https://localhost:8080/"
        },
        "id": "3RUjGdcNZgNN",
        "outputId": "2d65aabb-86f2-4e5e-973c-6d38a87a78d4"
      },
      "outputs": [
        {
          "output_type": "stream",
          "name": "stdout",
          "text": [
            "      RUI     NDX\n",
            "0  143.50  898.70\n",
            "1  144.09  911.71\n",
            "2  142.73  906.69\n",
            "3  144.18  918.59\n",
            "4  143.77  926.99\n"
          ]
        }
      ],
      "source": [
        "serie1 = pd.Series([143.5, 144.09, 142.73, 144.18, 143.77], name = 'RUI')#creamos la serie1 dando los valores de las acciones de RUI\n",
        "serie2 = pd.Series([898.7, 911.71, 906.69, 918.59, 926.99], name = 'NDX')#creamos la serie1 dando los valores de las acciones de NDX\n",
        "data_frame = pd.concat([serie1,serie2], axis = 1)#por medio de 'concat' tabula esta informacion de las series y con axis = 1 denotamos que seran filas\n",
        "print(data_frame)"
      ]
    },
    {
      "cell_type": "code",
      "execution_count": null,
      "metadata": {
        "colab": {
          "base_uri": "https://localhost:8080/"
        },
        "id": "QzWbo3eTaKNj",
        "outputId": "465965d3-cec7-4372-ae5f-15947cce685b"
      },
      "outputs": [
        {
          "output_type": "stream",
          "name": "stdout",
          "text": [
            "Date\n",
            "2016-01-31   -3.772261\n",
            "2016-02-29   -3.772261\n",
            "2016-03-31   -3.575551\n",
            "2016-04-30   -3.649659\n",
            "2016-05-31   -3.688879\n",
            "2016-06-30   -3.611918\n",
            "2016-07-31    4.277499\n",
            "2016-08-31   -3.442019\n",
            "2016-09-30   -3.473768\n",
            "2016-10-31   -3.352407\n",
            "2016-11-30   -3.324236\n",
            "2016-12-31   -3.381395\n",
            "Freq: M, Name: log_price, dtype: float64\n",
            "\n",
            "---------------------- separate line--------------------\n",
            "\n",
            "                 Open       High        Low      Close      retorno  log_price\n",
            "Date                                                                          \n",
            "2016-01-31   0.023000   0.023000   0.023000   0.023000          NaN  -3.772261\n",
            "2016-02-29   0.023000   0.023000   0.023000   0.023000     0.000000  -3.772261\n",
            "2016-03-31   0.028000   0.028000   0.028000   0.028000     0.217391  -3.575551\n",
            "2016-04-30   0.026000   0.026000   0.026000   0.026000    -0.071429  -3.649659\n",
            "2016-05-31   0.025000   0.025000   0.025000   0.025000    -0.038462  -3.688879\n",
            "2016-06-30   0.027000   0.027000   0.027000   0.027000     0.080000  -3.611918\n",
            "2016-07-31  71.160004  72.290001  70.730003  72.059998  2667.888729   4.277499\n",
            "2016-08-31   0.032000   0.032000   0.032000   0.032000    -0.999556  -3.442019\n",
            "2016-09-30   0.031000   0.031000   0.031000   0.031000    -0.031250  -3.473768\n",
            "2016-10-31   0.035000   0.035000   0.035000   0.035000     0.129032  -3.352407\n",
            "2016-11-30   0.036000   0.036000   0.036000   0.036000     0.028571  -3.324236\n",
            "2016-12-31   0.034000   0.034000   0.034000   0.034000    -0.055555  -3.381395\n"
          ]
        }
      ],
      "source": [
        "log_price = np.log(rui_bar.Close)\n",
        "log_price.name = 'log_price'\n",
        "print(log_price)\n",
        "print('\\n---------------------- separate line--------------------\\n')\n",
        "concat = pd.concat([rui_bar, log_price], axis = 1)\n",
        "print(concat)"
      ]
    },
    {
      "cell_type": "code",
      "execution_count": null,
      "metadata": {
        "colab": {
          "base_uri": "https://localhost:8080/"
        },
        "id": "6_EsQ6LJaY6D",
        "outputId": "3d03c5b4-6ac7-4e2c-ea62-d050cbd666d1"
      },
      "outputs": [
        {
          "output_type": "stream",
          "name": "stdout",
          "text": [
            "            Volume  Stock Splits\n",
            "Date                            \n",
            "2015-01-31       0             0\n",
            "2015-02-28       0             0\n",
            "2015-03-31       0             0\n",
            "2015-04-30       0             0\n",
            "\n",
            "---------------------- separate line--------------------\n",
            "\n",
            "               Open     High      Low    Close\n",
            "Date                                          \n",
            "2015-01-31  0.01413  0.01413  0.01413  0.01413\n",
            "2015-02-28  0.01753  0.01753  0.01753  0.01753\n",
            "2015-03-31  0.01470  0.01470  0.01470  0.01470\n",
            "2015-04-30  0.01696  0.01696  0.01696  0.01696\n"
          ]
        }
      ],
      "source": [
        "df_volume = rui_table.loc['2015-01':'2015-04',['Volume', 'Stock Splits']].resample('M').agg(lambda x: x[-1])#en este metodo escogemos el periodo de tiempo por medio del formato ['año/mes/dia':'año,mes,dia'] // le colocamos el nombre a los comlumnas con el formato ['':''] // añadimos la frecuencia correspondiente con'.resample('frecuencia')// y la funcion para escoger el ultimo dia de cada mes con ayuda de lambda\n",
        "print(df_volume)\n",
        "print('\\n---------------------- separate line--------------------\\n')\n",
        "df_2017 = rui_table.loc['2014-10':'2015-04',['Open', 'High', 'Low', 'Close']].resample('M').agg(lambda x: x[-1])#en este metodo escogemos el periodo de tiempo por medio del formato ['año/mes/dia':'año,mes,dia'] // le colocamos el nombre a los comlumnas con el formato ['':''] // añadimos la frecuencia correspondiente con'.resample('frecuencia')// y la funcion para escoger el ultimo dia de cada mes con ayuda de lambda\n",
        "print(df_2017)"
      ]
    },
    {
      "cell_type": "code",
      "execution_count": null,
      "metadata": {
        "colab": {
          "base_uri": "https://localhost:8080/"
        },
        "id": "tQzULK3tbwBk",
        "outputId": "ec06d3bb-1c12-4a4e-bd1f-63cee5a4505d"
      },
      "outputs": [
        {
          "output_type": "stream",
          "name": "stdout",
          "text": [
            "                 Open       High        Low      Close      retorno  Volume  \\\n",
            "Date                                                                          \n",
            "2015-01-31        NaN        NaN        NaN        NaN          NaN     0.0   \n",
            "2015-02-28        NaN        NaN        NaN        NaN          NaN     0.0   \n",
            "2015-03-31        NaN        NaN        NaN        NaN          NaN     0.0   \n",
            "2015-04-30        NaN        NaN        NaN        NaN          NaN     0.0   \n",
            "2016-01-31   0.023000   0.023000   0.023000   0.023000          NaN     NaN   \n",
            "2016-02-29   0.023000   0.023000   0.023000   0.023000     0.000000     NaN   \n",
            "2016-03-31   0.028000   0.028000   0.028000   0.028000     0.217391     NaN   \n",
            "2016-04-30   0.026000   0.026000   0.026000   0.026000    -0.071429     NaN   \n",
            "2016-05-31   0.025000   0.025000   0.025000   0.025000    -0.038462     NaN   \n",
            "2016-06-30   0.027000   0.027000   0.027000   0.027000     0.080000     NaN   \n",
            "2016-07-31  71.160004  72.290001  70.730003  72.059998  2667.888729     NaN   \n",
            "2016-08-31   0.032000   0.032000   0.032000   0.032000    -0.999556     NaN   \n",
            "2016-09-30   0.031000   0.031000   0.031000   0.031000    -0.031250     NaN   \n",
            "2016-10-31   0.035000   0.035000   0.035000   0.035000     0.129032     NaN   \n",
            "2016-11-30   0.036000   0.036000   0.036000   0.036000     0.028571     NaN   \n",
            "2016-12-31   0.034000   0.034000   0.034000   0.034000    -0.055555     NaN   \n",
            "\n",
            "            Stock Splits  \n",
            "Date                      \n",
            "2015-01-31           0.0  \n",
            "2015-02-28           0.0  \n",
            "2015-03-31           0.0  \n",
            "2015-04-30           0.0  \n",
            "2016-01-31           NaN  \n",
            "2016-02-29           NaN  \n",
            "2016-03-31           NaN  \n",
            "2016-04-30           NaN  \n",
            "2016-05-31           NaN  \n",
            "2016-06-30           NaN  \n",
            "2016-07-31           NaN  \n",
            "2016-08-31           NaN  \n",
            "2016-09-30           NaN  \n",
            "2016-10-31           NaN  \n",
            "2016-11-30           NaN  \n",
            "2016-12-31           NaN  \n"
          ]
        }
      ],
      "source": [
        "concat = pd.concat([rui_bar, df_volume], axis = 1)# en este metodo por medio de .concat tabula la informacion seleccionada y axis le indica que la tabule en fila\n",
        "print(concat)"
      ]
    },
    {
      "cell_type": "code",
      "execution_count": null,
      "metadata": {
        "colab": {
          "base_uri": "https://localhost:8080/"
        },
        "id": "dowCF6kTb2l_",
        "outputId": "6ab6ffbd-ae81-4afb-c7d1-858eab4d8262"
      },
      "outputs": [
        {
          "output_type": "stream",
          "name": "stdout",
          "text": [
            "Empty DataFrame\n",
            "Columns: [Open, High, Low, Close, retorno, Volume, Stock Splits]\n",
            "Index: []\n"
          ]
        }
      ],
      "source": [
        "concat = pd.concat([rui_bar,df_volume],axis = 1, join = 'inner')#por medio de este metodo se concatena la informacion producto de el inner join que devuelve las  filas cuando hay al menos una coincidencia en ambas tablas (rui_bar y df_volume)\n",
        "print(concat)"
      ]
    },
    {
      "cell_type": "code",
      "execution_count": null,
      "metadata": {
        "colab": {
          "base_uri": "https://localhost:8080/"
        },
        "id": "AoAF0WUmb_8D",
        "outputId": "726cc289-d663-4cd9-efa0-97cdcd3337b0"
      },
      "outputs": [
        {
          "output_type": "stream",
          "name": "stdout",
          "text": [
            "                 Open       High        Low      Close      retorno   Change\n",
            "Date                                                                        \n",
            "2016-01-31   0.023000   0.023000   0.023000   0.023000          NaN      NaN\n",
            "2016-02-29   0.023000   0.023000   0.023000   0.023000     0.000000      NaN\n",
            "2016-03-31   0.028000   0.028000   0.028000   0.028000     0.217391      NaN\n",
            "2016-04-30   0.026000   0.026000   0.026000   0.026000    -0.071429      NaN\n",
            "2016-05-31   0.025000   0.025000   0.025000   0.025000    -0.038462      NaN\n",
            "2016-06-30   0.027000   0.027000   0.027000   0.027000     0.080000      NaN\n",
            "2016-07-31  71.160004  72.290001  70.730003  72.059998  2667.888729      NaN\n",
            "2016-08-31   0.032000   0.032000   0.032000   0.032000    -0.999556      NaN\n",
            "2016-09-30   0.031000   0.031000   0.031000   0.031000    -0.031250      NaN\n",
            "2016-10-31   0.035000   0.035000   0.035000   0.035000     0.129032      NaN\n",
            "2016-11-30   0.036000   0.036000   0.036000   0.036000     0.028571      NaN\n",
            "2016-12-31   0.034000   0.034000   0.034000   0.034000    -0.055555      NaN\n",
            "2015-01-31        NaN   0.014130   0.014130   0.014130          NaN  0.01413\n",
            "2015-02-28        NaN   0.017530   0.017530   0.017530          NaN  0.01753\n",
            "2015-03-31        NaN   0.014700   0.014700   0.014700          NaN  0.01470\n",
            "2015-04-30        NaN   0.016960   0.016960   0.016960          NaN  0.01696\n"
          ]
        }
      ],
      "source": [
        "append = rui_bar.append(df_2017)# en este metodo se agregan todos los registros de valores de las acciones RUI en 2017\n",
        "print(append)"
      ]
    },
    {
      "cell_type": "code",
      "execution_count": null,
      "metadata": {
        "colab": {
          "base_uri": "https://localhost:8080/"
        },
        "id": "t5WpSe9zcHWO",
        "outputId": "52b6b159-9e29-45e2-8cae-81354cc93159"
      },
      "outputs": [
        {
          "output_type": "stream",
          "name": "stdout",
          "text": [
            "                 Open       High        Low      Close      retorno\n",
            "Date                                                               \n",
            "2016-01-31   0.023000   0.023000   0.023000   0.023000          NaN\n",
            "2016-02-29   0.023000   0.023000   0.023000   0.023000     0.000000\n",
            "2016-03-31   0.028000   0.028000   0.028000   0.028000     0.217391\n",
            "2016-04-30   0.026000   0.026000   0.026000   0.026000    -0.071429\n",
            "2016-05-31   0.025000   0.025000   0.025000   0.025000    -0.038462\n",
            "2016-06-30   0.027000   0.027000   0.027000   0.027000     0.080000\n",
            "2016-07-31  71.160004  72.290001  70.730003  72.059998  2667.888729\n",
            "2016-08-31   0.032000   0.032000   0.032000   0.032000    -0.999556\n",
            "2016-09-30   0.031000   0.031000   0.031000   0.031000    -0.031250\n",
            "2016-10-31   0.035000   0.035000   0.035000   0.035000     0.129032\n",
            "2016-11-30   0.036000   0.036000   0.036000   0.036000     0.028571\n",
            "2016-12-31   0.034000   0.034000   0.034000   0.034000    -0.055555\n",
            "2015-01-31   0.014130   0.014130   0.014130   0.014130          NaN\n",
            "2015-02-28   0.017530   0.017530   0.017530   0.017530          NaN\n",
            "2015-03-31   0.014700   0.014700   0.014700   0.014700          NaN\n",
            "2015-04-30   0.016960   0.016960   0.016960   0.016960          NaN\n"
          ]
        }
      ],
      "source": [
        "concat = pd.concat([rui_bar, df_2017], axis = 0)#concatena en la tabla los valores de las acciones RUI_bar // el axis = 0 organiza de la fecha mas reciente a la mas antigua en las filas\n",
        "print(concat)"
      ]
    },
    {
      "cell_type": "code",
      "execution_count": null,
      "metadata": {
        "colab": {
          "base_uri": "https://localhost:8080/"
        },
        "id": "7Li7h1NpcOOR",
        "outputId": "aac1d02f-400a-487c-92a9-a280f7c10a02"
      },
      "outputs": [
        {
          "output_type": "stream",
          "name": "stdout",
          "text": [
            "                 Open       High        Low      Close      retorno   Change\n",
            "Date                                                                        \n",
            "2016-01-31   0.023000   0.023000   0.023000   0.023000          NaN      NaN\n",
            "2016-02-29   0.023000   0.023000   0.023000   0.023000     0.000000      NaN\n",
            "2016-03-31   0.028000   0.028000   0.028000   0.028000     0.217391      NaN\n",
            "2016-04-30   0.026000   0.026000   0.026000   0.026000    -0.071429      NaN\n",
            "2016-05-31   0.025000   0.025000   0.025000   0.025000    -0.038462      NaN\n",
            "2016-06-30   0.027000   0.027000   0.027000   0.027000     0.080000      NaN\n",
            "2016-07-31  71.160004  72.290001  70.730003  72.059998  2667.888729      NaN\n",
            "2016-08-31   0.032000   0.032000   0.032000   0.032000    -0.999556      NaN\n",
            "2016-09-30   0.031000   0.031000   0.031000   0.031000    -0.031250      NaN\n",
            "2016-10-31   0.035000   0.035000   0.035000   0.035000     0.129032      NaN\n",
            "2016-11-30   0.036000   0.036000   0.036000   0.036000     0.028571      NaN\n",
            "2016-12-31   0.034000   0.034000   0.034000   0.034000    -0.055555      NaN\n",
            "2015-01-31        NaN   0.014130   0.014130   0.014130          NaN  0.01413\n",
            "2015-02-28        NaN   0.017530   0.017530   0.017530          NaN  0.01753\n",
            "2015-03-31        NaN   0.014700   0.014700   0.014700          NaN  0.01470\n",
            "2015-04-30        NaN   0.016960   0.016960   0.016960          NaN  0.01696\n"
          ]
        }
      ],
      "source": [
        "df_2017.columns = ['Change', 'High','Low','Close']#este metodo declara el nombre de las variables que implementara\n",
        "concat = pd.concat([rui_bar, df_2017], axis = 0)#concatena en la tabla los datos de rui_bar y df_2017 de fecha mas reciente a la mas antigua \n",
        "print(concat)"
      ]
    }
  ]
}